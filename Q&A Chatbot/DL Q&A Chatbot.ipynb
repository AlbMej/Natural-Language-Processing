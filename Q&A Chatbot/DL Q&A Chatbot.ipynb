{
 "cells": [
  {
   "cell_type": "markdown",
   "metadata": {},
   "source": [
    "# Deep Learning Question & Answer Chatbot"
   ]
  },
  {
   "cell_type": "markdown",
   "metadata": {},
   "source": [
    "I will be implementing a chat bot that can answer questions given a set of sentences. The chatbot will use a subset of the Babi Data Set from Facebook Research; it already contains stories(sentences), queries(questions), and answers. \n",
    "Here is a link to the Babi Data Sets and the research paper this is based on:\n",
    "\n",
    "Full Details: https://research.fb.com/downloads/babi/\n",
    "\n",
    "- Jason Weston, Antoine Bordes, Sumit Chopra, Tomas Mikolov, Alexander M. Rush,\n",
    "  \"Towards AI-Complete Question Answering: A Set of Prerequisite Toy Tasks\",\n",
    "  http://arxiv.org/abs/1502.05698\n",
    "  \n",
    "The bot currently returns a yes or a no to each question asked. However, I plan on integrating a Natural Language Generation component to introduce some meaningful dialogue as well as a speech to text component."
   ]
  },
  {
   "cell_type": "markdown",
   "metadata": {},
   "source": [
    "## Imports"
   ]
  },
  {
   "cell_type": "code",
   "execution_count": 1,
   "metadata": {},
   "outputs": [],
   "source": [
    "import pickle\n",
    "import numpy as np"
   ]
  },
  {
   "cell_type": "code",
   "execution_count": 2,
   "metadata": {},
   "outputs": [
    {
     "name": "stderr",
     "output_type": "stream",
     "text": [
      "Using TensorFlow backend.\n"
     ]
    }
   ],
   "source": [
    "from keras.preprocessing.sequence import pad_sequences\n",
    "from keras.preprocessing.text import Tokenizer"
   ]
  },
  {
   "cell_type": "code",
   "execution_count": 3,
   "metadata": {},
   "outputs": [],
   "source": [
    "# For creating the model\n",
    "from keras.models import Sequential, Model\n",
    "from keras.layers.embeddings import Embedding\n",
    "from keras.layers import Input, Activation, Dense, Permute, Dropout\n",
    "from keras.layers import add, dot, concatenate\n",
    "from keras.layers import LSTM"
   ]
  },
  {
   "cell_type": "code",
   "execution_count": 88,
   "metadata": {},
   "outputs": [
    {
     "name": "stderr",
     "output_type": "stream",
     "text": [
      "/home/alberto/miniconda3/lib/python3.7/site-packages/matplotlib/font_manager.py:232: UserWarning: Matplotlib is building the font cache using fc-list. This may take a moment.\n",
      "  'Matplotlib is building the font cache using fc-list. '\n"
     ]
    }
   ],
   "source": [
    "import matplotlib.pyplot as plt"
   ]
  },
  {
   "cell_type": "code",
   "execution_count": 101,
   "metadata": {},
   "outputs": [],
   "source": [
    "from pprint import pprint"
   ]
  },
  {
   "cell_type": "markdown",
   "metadata": {},
   "source": [
    "## Load the Data"
   ]
  },
  {
   "cell_type": "code",
   "execution_count": 48,
   "metadata": {},
   "outputs": [],
   "source": [
    "with open(\"train_qa.txt\", \"rb\") as fp:   # Unpickling\n",
    "    train_data =  pickle.load(fp) # List"
   ]
  },
  {
   "cell_type": "code",
   "execution_count": 49,
   "metadata": {},
   "outputs": [],
   "source": [
    "with open(\"test_qa.txt\", \"rb\") as fp:   # Unpickling\n",
    "    test_data =  pickle.load(fp) # List"
   ]
  },
  {
   "cell_type": "markdown",
   "metadata": {},
   "source": [
    "10:1 ratio for training data vs testing data; there are 10,000 points for train_data and 1,000 points for test_data. "
   ]
  },
  {
   "cell_type": "code",
   "execution_count": 50,
   "metadata": {},
   "outputs": [
    {
     "data": {
      "text/plain": [
       "(['Sandra',\n",
       "  'went',\n",
       "  'back',\n",
       "  'to',\n",
       "  'the',\n",
       "  'hallway',\n",
       "  '.',\n",
       "  'Sandra',\n",
       "  'moved',\n",
       "  'to',\n",
       "  'the',\n",
       "  'office',\n",
       "  '.'],\n",
       " ['Is', 'Sandra', 'in', 'the', 'office', '?'],\n",
       " 'yes')"
      ]
     },
     "execution_count": 50,
     "metadata": {},
     "output_type": "execute_result"
    }
   ],
   "source": [
    "train_data[10]"
   ]
  },
  {
   "cell_type": "code",
   "execution_count": 51,
   "metadata": {},
   "outputs": [],
   "source": [
    "story_sentence = ' '.join(train_data[10][0]) #Story/Sentence\n",
    "query_question = ' '.join(train_data[10][1]) #Query/Question\n",
    "answer = train_data[10][2] #Answer to question"
   ]
  },
  {
   "cell_type": "code",
   "execution_count": 52,
   "metadata": {},
   "outputs": [
    {
     "name": "stdout",
     "output_type": "stream",
     "text": [
      "Sentence:  Sandra went back to the hallway . Sandra moved to the office .\n",
      "Question:  Is Sandra in the office ?\n",
      "Answer:    yes\n"
     ]
    }
   ],
   "source": [
    "print(\"Sentence: \", story_sentence)\n",
    "print(\"Question: \", query_question)\n",
    "print(\"Answer:   \", answer)"
   ]
  },
  {
   "cell_type": "markdown",
   "metadata": {},
   "source": [
    "## Create a Vocabulary of all of the Words"
   ]
  },
  {
   "cell_type": "code",
   "execution_count": 53,
   "metadata": {},
   "outputs": [],
   "source": [
    "# Set that contains the vocab words\n",
    "vocab = set()"
   ]
  },
  {
   "cell_type": "code",
   "execution_count": 54,
   "metadata": {},
   "outputs": [],
   "source": [
    "all_data = train_data + test_data \n",
    "\n",
    "for story, question , answer in all_data:\n",
    "    # Creates a vocabulary of all the distinct words inside our dataset \n",
    "    vocab = vocab | set(story) # vocab ∪ Story. Continuously adds unique words\n",
    "    vocab = vocab | set(question) # vocab ∪ question. Continuously adds unique words"
   ]
  },
  {
   "cell_type": "code",
   "execution_count": 55,
   "metadata": {},
   "outputs": [],
   "source": [
    "# Add in the two possible answers \n",
    "vocab.add('no')\n",
    "vocab.add('yes')"
   ]
  },
  {
   "cell_type": "code",
   "execution_count": 56,
   "metadata": {},
   "outputs": [
    {
     "data": {
      "text/plain": [
       "{'.',\n",
       " '?',\n",
       " 'Daniel',\n",
       " 'Is',\n",
       " 'John',\n",
       " 'Mary',\n",
       " 'Sandra',\n",
       " 'apple',\n",
       " 'back',\n",
       " 'bathroom',\n",
       " 'bedroom',\n",
       " 'discarded',\n",
       " 'down',\n",
       " 'dropped',\n",
       " 'football',\n",
       " 'garden',\n",
       " 'got',\n",
       " 'grabbed',\n",
       " 'hallway',\n",
       " 'in',\n",
       " 'journeyed',\n",
       " 'kitchen',\n",
       " 'left',\n",
       " 'milk',\n",
       " 'moved',\n",
       " 'no',\n",
       " 'office',\n",
       " 'picked',\n",
       " 'put',\n",
       " 'the',\n",
       " 'there',\n",
       " 'to',\n",
       " 'took',\n",
       " 'travelled',\n",
       " 'up',\n",
       " 'went',\n",
       " 'yes'}"
      ]
     },
     "execution_count": 56,
     "metadata": {},
     "output_type": "execute_result"
    }
   ],
   "source": [
    "vocab"
   ]
  },
  {
   "cell_type": "code",
   "execution_count": 57,
   "metadata": {},
   "outputs": [],
   "source": [
    "# Reserve 0 for Keras pad_sequences \n",
    "vocab_size = len(vocab) + 1 # + 1 to add an extra space for a 0 for Keras's pad_sequences"
   ]
  },
  {
   "cell_type": "code",
   "execution_count": 58,
   "metadata": {},
   "outputs": [],
   "source": [
    "# Find longest story\n",
    "longestStory = max(( (len(data[0])) for data in all_data )) \n",
    "longestQuery = max(( (len(data[1])) for data in all_data )) "
   ]
  },
  {
   "cell_type": "code",
   "execution_count": 59,
   "metadata": {},
   "outputs": [
    {
     "name": "stdout",
     "output_type": "stream",
     "text": [
      "156\n",
      "6\n"
     ]
    }
   ],
   "source": [
    "print(longestStory)\n",
    "print(longestQuery)"
   ]
  },
  {
   "cell_type": "markdown",
   "metadata": {},
   "source": [
    "## Vectorize Data"
   ]
  },
  {
   "cell_type": "code",
   "execution_count": 60,
   "metadata": {},
   "outputs": [],
   "source": [
    "# Creates integer encoding for the sequences of words\n",
    "tokenizer = Tokenizer(filters = [])\n",
    "tokenizer.fit_on_texts(vocab) # This method creates the vocabulary index based on word frequency"
   ]
  },
  {
   "cell_type": "code",
   "execution_count": 61,
   "metadata": {},
   "outputs": [
    {
     "data": {
      "text/plain": [
       "{'?': 1,\n",
       " 'sandra': 2,\n",
       " 'the': 3,\n",
       " 'back': 4,\n",
       " 'picked': 5,\n",
       " 'grabbed': 6,\n",
       " 'hallway': 7,\n",
       " 'office': 8,\n",
       " 'garden': 9,\n",
       " 'in': 10,\n",
       " 'apple': 11,\n",
       " 'bathroom': 12,\n",
       " 'put': 13,\n",
       " 'down': 14,\n",
       " 'went': 15,\n",
       " 'john': 16,\n",
       " 'got': 17,\n",
       " 'there': 18,\n",
       " 'discarded': 19,\n",
       " 'bedroom': 20,\n",
       " 'to': 21,\n",
       " 'moved': 22,\n",
       " 'travelled': 23,\n",
       " 'mary': 24,\n",
       " 'milk': 25,\n",
       " 'dropped': 26,\n",
       " 'no': 27,\n",
       " 'took': 28,\n",
       " 'left': 29,\n",
       " 'up': 30,\n",
       " 'football': 31,\n",
       " 'yes': 32,\n",
       " 'kitchen': 33,\n",
       " 'journeyed': 34,\n",
       " '.': 35,\n",
       " 'is': 36,\n",
       " 'daniel': 37}"
      ]
     },
     "execution_count": 61,
     "metadata": {},
     "output_type": "execute_result"
    }
   ],
   "source": [
    "tokenizer.word_index"
   ]
  },
  {
   "cell_type": "code",
   "execution_count": 62,
   "metadata": {},
   "outputs": [],
   "source": [
    "trainStoryText = []\n",
    "trainQueryText = []\n",
    "trainAnswers = []\n",
    "\n",
    "for story, query, answer in train_data:\n",
    "    trainStoryText.append(story)\n",
    "    trainQueryText.append(query)\n",
    "    trainAnswers.append(answer)"
   ]
  },
  {
   "cell_type": "code",
   "execution_count": 63,
   "metadata": {},
   "outputs": [],
   "source": [
    " # Transforms each word in the sentences to a sequence of integers.\n",
    "trainStorySeq = tokenizer.texts_to_sequences(trainStoryText)"
   ]
  },
  {
   "cell_type": "code",
   "execution_count": 64,
   "metadata": {},
   "outputs": [],
   "source": [
    "def vectorizeStories(data, word_index = tokenizer.word_index, maxStoryLen = longestStory, maxQueryLen = longestQuery):\n",
    "    \"\"\"\n",
    "    Vectorizes stories, queries, & answers into padded sequences. \n",
    "   \n",
    "    Parameters: \n",
    "        data: All the data (Stories, Queries, Answers)\n",
    "        word_index: A word index dictionary. Defaulted to our tokenizer.word_index\n",
    "                    Can be overrided to other datasets or other sets of questions\n",
    "        maxStoryLen: Length of the longest story (Will be used for the pad_sequences function)\n",
    "        maxQueryLen: Length of the longest query (Will be used for the pad_sequences function)\n",
    "        \n",
    "        We need the max story & query length because we are using padded sequences; not every story/query \n",
    "        is the same length and our RNN that we're using for training needs everything to be the same length \n",
    "        We'll pad the inputs with 0s in case there's a story or query that is too short. Or we can cut down \n",
    "        a story or query if it is too long.\n",
    "        \n",
    "    Returns: \n",
    "        this (tuple): A tuple of the form (X, Q, A) (padded based on max lengths)    \n",
    "    \"\"\"\n",
    "    X = [] # X := Stories\n",
    "    Q = [] # Q := Queries\n",
    "    A = [] # A := Answers (yes/no)\n",
    "    \n",
    "    for story, query, answer in data:\n",
    "        # Convert the raw words into integers through a word index value\n",
    "        \n",
    "        # Grabs the word index for every word in story\n",
    "        # [9, 34, ...]\n",
    "        x = [word_index[word.lower()] for word in story]\n",
    "        # Grabs the word index for every word in query\n",
    "        q = [word_index[word.lower()] for word in query]\n",
    "        \n",
    "        # Index 0 is reserved since we are using pad sequences, so we add + 1\n",
    "        a = np.zeros(len(word_index) + 1)\n",
    "        \n",
    "        # a is an empty matrix of NP zeros so we'll use numpy logic to create this assignment (Yes/No)\n",
    "        a[word_index[answer]] = 1\n",
    "        \n",
    "        # We now append each set to their appropriate output list.\n",
    "        X.append(x)\n",
    "        Q.append(q)\n",
    "        A.append(a)\n",
    "    \n",
    "    # Now that we have converted the words to numbers, we pad the sequences so they are all of equal length.\n",
    "    X_padded_seqs = pad_sequences(X, maxlen = maxStoryLen)\n",
    "    Q_padded_seqs = pad_sequences(Q, maxlen= maxQueryLen)\n",
    "    answers = np.array(A)\n",
    "    \n",
    "    # Now that the sequences are padded based on their max length, the RNN can be trained on uniformly long sequences.\n",
    "    # Returns tuple for unpacking. \n",
    "    return (X_padded_seqs, Q_padded_seqs, answers)"
   ]
  },
  {
   "cell_type": "code",
   "execution_count": 65,
   "metadata": {},
   "outputs": [],
   "source": [
    "inputsTrain, queriesTrain, answersTrain = vectorizeStories(train_data)\n",
    "inputsTest, queriesTest, answersTest = vectorizeStories(test_data)"
   ]
  },
  {
   "cell_type": "code",
   "execution_count": 66,
   "metadata": {},
   "outputs": [
    {
     "name": "stdout",
     "output_type": "stream",
     "text": [
      "[[ 0  0  0 ...  3 20 35]\n",
      " [ 0  0  0 ...  3  7 35]\n",
      " [ 0  0  0 ...  3 12 35]\n",
      " ...\n",
      " [ 0  0  0 ...  3 20 35]\n",
      " [ 0  0  0 ... 25 18 35]\n",
      " [ 0  0  0 ... 11 18 35]]\n"
     ]
    }
   ],
   "source": [
    "print(inputsTrain)"
   ]
  },
  {
   "cell_type": "code",
   "execution_count": 67,
   "metadata": {},
   "outputs": [
    {
     "name": "stdout",
     "output_type": "stream",
     "text": [
      "[[ 0  0  0 ...  3 20 35]\n",
      " [ 0  0  0 ...  3  9 35]\n",
      " [ 0  0  0 ...  3  9 35]\n",
      " ...\n",
      " [ 0  0  0 ...  3 11 35]\n",
      " [ 0  0  0 ...  3  9 35]\n",
      " [ 0  0  0 ... 11 18 35]]\n"
     ]
    }
   ],
   "source": [
    "print(inputsTest)"
   ]
  },
  {
   "cell_type": "code",
   "execution_count": 68,
   "metadata": {},
   "outputs": [
    {
     "name": "stdout",
     "output_type": "stream",
     "text": [
      "[[0. 0. 0. ... 0. 0. 0.]\n",
      " [0. 0. 0. ... 0. 0. 0.]\n",
      " [0. 0. 0. ... 0. 0. 0.]\n",
      " ...\n",
      " [0. 0. 0. ... 0. 0. 0.]\n",
      " [0. 0. 0. ... 0. 0. 0.]\n",
      " [0. 0. 0. ... 0. 0. 0.]]\n"
     ]
    }
   ],
   "source": [
    "print(answersTest)"
   ]
  },
  {
   "cell_type": "code",
   "execution_count": 69,
   "metadata": {},
   "outputs": [
    {
     "data": {
      "text/plain": [
       "32"
      ]
     },
     "execution_count": 69,
     "metadata": {},
     "output_type": "execute_result"
    }
   ],
   "source": [
    "tokenizer.word_index['yes']"
   ]
  },
  {
   "cell_type": "code",
   "execution_count": 70,
   "metadata": {},
   "outputs": [
    {
     "data": {
      "text/plain": [
       "27"
      ]
     },
     "execution_count": 70,
     "metadata": {},
     "output_type": "execute_result"
    }
   ],
   "source": [
    "tokenizer.word_index['no']"
   ]
  },
  {
   "cell_type": "code",
   "execution_count": 71,
   "metadata": {},
   "outputs": [
    {
     "data": {
      "text/plain": [
       "array([  0.,   0.,   0.,   0.,   0.,   0.,   0.,   0.,   0.,   0.,   0.,\n",
       "         0.,   0.,   0.,   0.,   0.,   0.,   0.,   0.,   0.,   0.,   0.,\n",
       "         0.,   0.,   0.,   0.,   0., 503.,   0.,   0.,   0.,   0., 497.,\n",
       "         0.,   0.,   0.,   0.,   0.])"
      ]
     },
     "execution_count": 71,
     "metadata": {},
     "output_type": "execute_result"
    }
   ],
   "source": [
    "sum(answersTest)"
   ]
  },
  {
   "cell_type": "markdown",
   "metadata": {},
   "source": [
    "We can see that we have 497 'yes's at index location 7 and 29 'no's at index location 29.\n",
    "\n",
    "Our stories, queries, and answers are now successfully vectorized"
   ]
  },
  {
   "cell_type": "markdown",
   "metadata": {},
   "source": [
    "## Create the model"
   ]
  },
  {
   "cell_type": "code",
   "execution_count": 72,
   "metadata": {},
   "outputs": [],
   "source": [
    "# We have 2 inputs: The stories and questions\n",
    "# We'll need to use place holders so we will use `Input()` to insantiate a Keras tensor."
   ]
  },
  {
   "cell_type": "code",
   "execution_count": 73,
   "metadata": {},
   "outputs": [],
   "source": [
    "# Shape = (Longest Story, Batch Size)\n",
    "inputSequence = Input((longestStory, ))\n",
    "query = Input((longestQuery, ))"
   ]
  },
  {
   "cell_type": "markdown",
   "metadata": {},
   "source": [
    "## Build the Neural Network "
   ]
  },
  {
   "cell_type": "markdown",
   "metadata": {},
   "source": [
    "There are three encoders we will build\n",
    "* Input Encoder C\n",
    "* Input Encoder M\n",
    "* Question Encoder\n",
    "\n",
    "We are following this model from the paper:\n",
    "![PaperModel](.\\PaperModel.png)\n",
    "<i><center>Figure 1: (a): A single layer version of the model. (b): A three layer version of the model.</center></i>"
   ]
  },
  {
   "cell_type": "markdown",
   "metadata": {},
   "source": [
    "### Input Encoder C"
   ]
  },
  {
   "cell_type": "code",
   "execution_count": 74,
   "metadata": {},
   "outputs": [],
   "source": [
    "# This input gets embedding to a sequence of vectors\n",
    "inputEncoderC = Sequential()\n",
    "# Add 2 layers to it\n",
    "inputEncoderC.add(Embedding(input_dim = vocab_size, output_dim = longestQuery))\n",
    "# Turns off a random % of nuerons. Helps with overfitting. Can increase droupout and train longer if wanted\n",
    "inputEncoderC.add(Dropout(0.3))\n",
    "\n",
    "# This encoder will output:\n",
    "# output: (samples, stories max len, longestQuery)"
   ]
  },
  {
   "cell_type": "markdown",
   "metadata": {},
   "source": [
    "### Input Encoder M"
   ]
  },
  {
   "cell_type": "code",
   "execution_count": 75,
   "metadata": {},
   "outputs": [],
   "source": [
    "# This input gets embedding to a sequence of vectors\n",
    "inputEncoderM = Sequential()\n",
    "# Add 2 layers to it\n",
    "# The dimension is set to 64 as the researchers found it to give good results for that vocab size. \n",
    "inputEncoderM.add(Embedding(input_dim = vocab_size, output_dim = 64)) \n",
    "# Turns off a random % of nuerons. Helps with overfitting. Can increase droupout and train longer if wanted\n",
    "inputEncoderM.add(Dropout(0.3))\n",
    "\n",
    "# This encoder will output:\n",
    "# output: (samples, stories max len, embedding dim)"
   ]
  },
  {
   "cell_type": "markdown",
   "metadata": {},
   "source": [
    "### Question Encoder"
   ]
  },
  {
   "cell_type": "code",
   "execution_count": 76,
   "metadata": {},
   "outputs": [],
   "source": [
    "# This input gets embedding to a sequence of vectors. The paper states: The query q is also embedded (again, in the simplest case via another embedding matrix\n",
    "# B with the same dimensions as A) to obtain an internal state u. So the output dimension will match our encoder m.\n",
    "questionEncoder = Sequential()\n",
    "# Add 2 layers to it\n",
    "questionEncoder.add(Embedding(input_dim = vocab_size, output_dim = 64, input_length = longestQuery))\n",
    "# Turns off a random % of nuerons. Helps with overfitting. Can increase droupout and train longer if wanted\n",
    "questionEncoder.add(Dropout(0.3))\n",
    "\n",
    "# This encoder will output:\n",
    "# output: (samples, longestQuery, embedding dim)"
   ]
  },
  {
   "cell_type": "markdown",
   "metadata": {},
   "source": [
    "### Encode the Sequences "
   ]
  },
  {
   "cell_type": "code",
   "execution_count": 77,
   "metadata": {},
   "outputs": [],
   "source": [
    "# Enocoded <-- Encoder(input)\n",
    "# encode the input sequence and questions (which are indices) to sequences of dense vectors\n",
    "# We already have our placeholders for the inputs (inputSequence & query)\n",
    "inputEncodedM = inputEncoderM(inputSequence)\n",
    "inputEncodedC = inputEncoderC(inputSequence)\n",
    "questionEncoded = questionEncoder(query)"
   ]
  },
  {
   "cell_type": "code",
   "execution_count": 78,
   "metadata": {},
   "outputs": [],
   "source": [
    "# As stated in the paper: \n",
    "# In the embedding space, we compute the match between u (1st input vector seq.) and each memory m_i (the query) by taking the innner product\n",
    "# shape: `(samples, story_maxlen, query_maxlen)`\n",
    "match = dot([inputEncodedM, questionEncoded], axes = (2,2))"
   ]
  },
  {
   "cell_type": "markdown",
   "metadata": {},
   "source": [
    "Now we call an activation function on this match (Softmax)."
   ]
  },
  {
   "cell_type": "markdown",
   "metadata": {},
   "source": [
    "$$p_{i}=\\operatorname{Softmax}\\left(u^{T} m_{i}\\right)$$\n",
    "Where\n",
    "$$\\operatorname{Softmax}\\left(z_{i}\\right)=e^{z_{i}} / \\sum_{j} e^{z_{j}}$$"
   ]
  },
  {
   "cell_type": "code",
   "execution_count": 79,
   "metadata": {},
   "outputs": [],
   "source": [
    "match = Activation('softmax')(match)"
   ]
  },
  {
   "cell_type": "markdown",
   "metadata": {},
   "source": [
    "Now we add this match matrix with the second input vector sequence"
   ]
  },
  {
   "cell_type": "code",
   "execution_count": 80,
   "metadata": {},
   "outputs": [],
   "source": [
    "response_vector = add([match, inputEncodedC]) # (samples, longestStory, longestQuery)\n",
    "response_vector = Permute((2, 1))(response_vector)  # (samples, longestQuery, longestStory)"
   ]
  },
  {
   "cell_type": "code",
   "execution_count": 81,
   "metadata": {},
   "outputs": [
    {
     "data": {
      "text/plain": [
       "<tf.Tensor 'concatenate_4/concat:0' shape=(?, 6, 220) dtype=float32>"
      ]
     },
     "execution_count": 81,
     "metadata": {},
     "output_type": "execute_result"
    }
   ],
   "source": [
    "# concatenate the match matrix with the question vector sequence\n",
    "answer = concatenate([response_vector, questionEncoded])\n",
    "answer # (batch size, 6 x 220)"
   ]
  },
  {
   "cell_type": "markdown",
   "metadata": {},
   "source": [
    "Now that we have our answer, we are going to reduce it with a RNN, specifically a LSTM layer"
   ]
  },
  {
   "cell_type": "code",
   "execution_count": 82,
   "metadata": {},
   "outputs": [],
   "source": [
    "# Reduce with LSTM\n",
    "answer = LSTM(32)(answer)  # (samples, 32)"
   ]
  },
  {
   "cell_type": "code",
   "execution_count": 83,
   "metadata": {},
   "outputs": [],
   "source": [
    "# Perform one more series of Regularization with Dropout\n",
    "answer = Dropout(0.5)(answer)\n",
    "# Dense output layer for the vocab size (samples, vocab_size) # YES/NO 0000\n",
    "answer = Dense(vocab_size)(answer) "
   ]
  },
  {
   "cell_type": "markdown",
   "metadata": {},
   "source": [
    "Output a probability distribution over the vocabulary bc we'll essentially see a bunch of zeros except some probability on YES and some probability on NO. we'll pass this into a Softmax in order to turn it into a 0 or 1"
   ]
  },
  {
   "cell_type": "code",
   "execution_count": 84,
   "metadata": {},
   "outputs": [],
   "source": [
    "# Output a probability distribution over the vocabulary\n",
    "answer = Activation('softmax')(answer)\n",
    "\n",
    "# Building the final model\n",
    "# This answer links together all the encoders (encoder C, encoder M, Question encoder).\n",
    "# This is how we link our model to those encodings.\n",
    "model = Model([inputSequence, query], answer) \n",
    "\n",
    "# We expect to see only high probabilities on YES or NO, but we're not working with a Binary Cross-Entropy Loss \n",
    "# since we we have a larger vocab size than that. Altough we should only expect to see only high probabilities on YES or NO\n",
    "# categorical_crossentropy since we are doing this across the entire vocabulary. \n",
    "model.compile(optimizer='rmsprop', loss='categorical_crossentropy', metrics=['accuracy'])"
   ]
  },
  {
   "cell_type": "code",
   "execution_count": 85,
   "metadata": {},
   "outputs": [
    {
     "name": "stdout",
     "output_type": "stream",
     "text": [
      "__________________________________________________________________________________________________\n",
      "Layer (type)                    Output Shape         Param #     Connected to                     \n",
      "==================================================================================================\n",
      "input_3 (InputLayer)            (None, 156)          0                                            \n",
      "__________________________________________________________________________________________________\n",
      "input_4 (InputLayer)            (None, 6)            0                                            \n",
      "__________________________________________________________________________________________________\n",
      "sequential_5 (Sequential)       multiple             2432        input_3[0][0]                    \n",
      "__________________________________________________________________________________________________\n",
      "sequential_6 (Sequential)       (None, 6, 64)        2432        input_4[0][0]                    \n",
      "__________________________________________________________________________________________________\n",
      "dot_3 (Dot)                     (None, 156, 6)       0           sequential_5[1][0]               \n",
      "                                                                 sequential_6[1][0]               \n",
      "__________________________________________________________________________________________________\n",
      "activation_3 (Activation)       (None, 156, 6)       0           dot_3[0][0]                      \n",
      "__________________________________________________________________________________________________\n",
      "sequential_4 (Sequential)       multiple             228         input_3[0][0]                    \n",
      "__________________________________________________________________________________________________\n",
      "add_3 (Add)                     (None, 156, 6)       0           activation_3[0][0]               \n",
      "                                                                 sequential_4[1][0]               \n",
      "__________________________________________________________________________________________________\n",
      "permute_3 (Permute)             (None, 6, 156)       0           add_3[0][0]                      \n",
      "__________________________________________________________________________________________________\n",
      "concatenate_4 (Concatenate)     (None, 6, 220)       0           permute_3[0][0]                  \n",
      "                                                                 sequential_6[1][0]               \n",
      "__________________________________________________________________________________________________\n",
      "lstm_5 (LSTM)                   (None, 32)           32384       concatenate_4[0][0]              \n",
      "__________________________________________________________________________________________________\n",
      "dropout_7 (Dropout)             (None, 32)           0           lstm_5[0][0]                     \n",
      "__________________________________________________________________________________________________\n",
      "dense_1 (Dense)                 (None, 38)           1254        dropout_7[0][0]                  \n",
      "__________________________________________________________________________________________________\n",
      "activation_4 (Activation)       (None, 38)           0           dense_1[0][0]                    \n",
      "==================================================================================================\n",
      "Total params: 38,730\n",
      "Trainable params: 38,730\n",
      "Non-trainable params: 0\n",
      "__________________________________________________________________________________________________\n"
     ]
    }
   ],
   "source": [
    "model.summary()"
   ]
  },
  {
   "cell_type": "code",
   "execution_count": 96,
   "metadata": {},
   "outputs": [
    {
     "name": "stdout",
     "output_type": "stream",
     "text": [
      "Train on 10000 samples, validate on 1000 samples\n",
      "Epoch 1/10\n",
      "10000/10000 [==============================] - 6s 635us/step - loss: 0.6945 - acc: 0.4951 - val_loss: 0.6932 - val_acc: 0.5030\n",
      "Epoch 2/10\n",
      "10000/10000 [==============================] - 7s 669us/step - loss: 0.6943 - acc: 0.5040 - val_loss: 0.6933 - val_acc: 0.5030\n",
      "Epoch 3/10\n",
      "10000/10000 [==============================] - 8s 785us/step - loss: 0.6950 - acc: 0.4973 - val_loss: 0.6935 - val_acc: 0.4970\n",
      "Epoch 4/10\n",
      "10000/10000 [==============================] - 6s 628us/step - loss: 0.6946 - acc: 0.4927 - val_loss: 0.6933 - val_acc: 0.5030\n",
      "Epoch 5/10\n",
      "10000/10000 [==============================] - 7s 669us/step - loss: 0.6945 - acc: 0.4917 - val_loss: 0.6934 - val_acc: 0.4970\n",
      "Epoch 6/10\n",
      "10000/10000 [==============================] - 7s 658us/step - loss: 0.6943 - acc: 0.5003 - val_loss: 0.6938 - val_acc: 0.5030\n",
      "Epoch 7/10\n",
      "10000/10000 [==============================] - 7s 657us/step - loss: 0.6942 - acc: 0.5066 - val_loss: 0.6935 - val_acc: 0.5070\n",
      "Epoch 8/10\n",
      "10000/10000 [==============================] - 6s 629us/step - loss: 0.6933 - acc: 0.5072 - val_loss: 0.6925 - val_acc: 0.5170\n",
      "Epoch 9/10\n",
      "10000/10000 [==============================] - 8s 760us/step - loss: 0.6766 - acc: 0.5702 - val_loss: 0.6417 - val_acc: 0.6530\n",
      "Epoch 10/10\n",
      "10000/10000 [==============================] - 7s 654us/step - loss: 0.6282 - acc: 0.6586 - val_loss: 0.6023 - val_acc: 0.6830\n"
     ]
    }
   ],
   "source": [
    "'''\n",
    "Train the model for 3 epochs, in batches of 16 samples,\n",
    "on data stored in the Numpy array X_train,\n",
    "and labels stored in the Numpy array y_train:\n",
    "\n",
    "model.fit(X_train, y_train, nb_epoch=3, batch_size=16, verbose=1)\n",
    "\n",
    "What you will see with mode verbose=1:\n",
    "Train on 37800 samples, validate on 4200 samples\n",
    "Epoch 0\n",
    "37800/37800 [==============================] - 7s - loss: 0.0385\n",
    "Epoch 1\n",
    "37800/37800 [==============================] - 8s - loss: 0.0140\n",
    "Epoch 2\n",
    "10960/37800 [=======>......................] - ETA: 4s - loss: 0.0109\n",
    "\n",
    "Smaller batch sizes with longer training epochs should lead to slightly better results. \n",
    "'''\n",
    "# Training on input stories and input questions\n",
    "x_train = [inputsTrain, queriesTrain]\n",
    "correctLabels = answersTrain\n",
    "\n",
    "validSet = ([inputsTest, queriesTest], answersTest)\n",
    "\n",
    "chatbotHistory = model.fit(x_train, correctLabels, batch_size=32, epochs=10, validation_data=validSet)"
   ]
  },
  {
   "cell_type": "markdown",
   "metadata": {},
   "source": [
    "## Evaluating the Model"
   ]
  },
  {
   "cell_type": "code",
   "execution_count": 104,
   "metadata": {},
   "outputs": [
    {
     "name": "stdout",
     "output_type": "stream",
     "text": [
      "dict_keys(['val_loss', 'val_acc', 'loss', 'acc'])\n"
     ]
    },
    {
     "data": {
      "image/png": "[encoded data removed]",
      "text/plain": [
       "<Figure size 432x288 with 1 Axes>"
      ]
     },
     "metadata": {
      "needs_background": "light"
     },
     "output_type": "display_data"
    }
   ],
   "source": [
    "#pprint(chatbotHistory.history)\n",
    "print(chatbotHistory.history.keys())\n",
    "# Summarize the history for accuracy\n",
    "#Loss & and Accuracy are essentially inverses of each other. We are trying to increase accuracy/reduce loss\n",
    "plt.plot(chatbotHistory.history['acc']) \n",
    "plt.plot(chatbotHistory.history['val_acc'])\n",
    "plt.title('Model Accuracy')\n",
    "plt.ylabel('Accuracy')\n",
    "plt.xlabel('Epochs')\n",
    "plt.legend(['train', 'test'], loc='upper left')\n",
    "plt.show()"
   ]
  },
  {
   "cell_type": "markdown",
   "metadata": {},
   "source": [
    "### Saving the Model"
   ]
  },
  {
   "cell_type": "code",
   "execution_count": 105,
   "metadata": {},
   "outputs": [],
   "source": [
    "model.save(\"models/chatbot_10_epochs.h5\")"
   ]
  },
  {
   "cell_type": "code",
   "execution_count": 106,
   "metadata": {},
   "outputs": [],
   "source": [
    "# To load a different model\n",
    "# model.load_weights(\"models/chatbot_10_epochs.h5\")"
   ]
  },
  {
   "cell_type": "code",
   "execution_count": 107,
   "metadata": {},
   "outputs": [],
   "source": [
    "# Evaluate on test set\n",
    "# Trying to predict based on the test set so the answer labels are not passed in\n",
    "predictedResults = model.predict((validSet[0]))"
   ]
  },
  {
   "cell_type": "code",
   "execution_count": 126,
   "metadata": {},
   "outputs": [
    {
     "name": "stdout",
     "output_type": "stream",
     "text": [
      "Story: Mary got the milk there . John moved to the bedroom .\n",
      "Question: Is John in the kitchen ?\n",
      "Correct Answer:  no\n"
     ]
    }
   ],
   "source": [
    "story =' '.join(word for word in test_data[0][0])\n",
    "print(f'Story: {story}')\n",
    "\n",
    "query = ' '.join(word for word in test_data[0][1])\n",
    "print(f'Question: {query}')\n",
    "\n",
    "print(\"Correct Answer: \",test_data[0][2])"
   ]
  },
  {
   "cell_type": "code",
   "execution_count": 112,
   "metadata": {},
   "outputs": [
    {
     "data": {
      "text/plain": [
       "(1000, 38)"
      ]
     },
     "execution_count": 112,
     "metadata": {},
     "output_type": "execute_result"
    }
   ],
   "source": [
    "predictedResults.shape #37 vocab words + 1 for padding"
   ]
  },
  {
   "cell_type": "code",
   "execution_count": 114,
   "metadata": {},
   "outputs": [
    {
     "data": {
      "text/plain": [
       "array([5.0112348e-10, 4.5787094e-10, 6.3810701e-10, 5.5542471e-10,\n",
       "       6.6181999e-10, 5.9348138e-10, 6.2088096e-10, 5.1487664e-10,\n",
       "       5.2840127e-10, 4.8137089e-10, 6.0495936e-10, 5.9260025e-10,\n",
       "       5.7406663e-10, 5.3163418e-10, 5.0924420e-10, 5.7980082e-10,\n",
       "       5.6972849e-10, 5.8729027e-10, 5.6042726e-10, 5.3396543e-10,\n",
       "       5.9345984e-10, 5.6819077e-10, 5.4304178e-10, 5.7039828e-10,\n",
       "       5.5068838e-10, 6.2389027e-10, 5.2008708e-10, 4.2996445e-01,\n",
       "       5.8343613e-10, 5.7413779e-10, 5.8297012e-10, 4.6415793e-10,\n",
       "       5.7003546e-01, 5.5107607e-10, 5.4589350e-10, 5.7784783e-10,\n",
       "       5.4446264e-10, 6.7424405e-10], dtype=float32)"
      ]
     },
     "execution_count": 114,
     "metadata": {},
     "output_type": "execute_result"
    }
   ],
   "source": [
    "predictedResults[0]"
   ]
  },
  {
   "cell_type": "code",
   "execution_count": 120,
   "metadata": {},
   "outputs": [],
   "source": [
    "mostyProbableWord = np.argmax(predictedResults[0]) #Word with the highest probability"
   ]
  },
  {
   "cell_type": "code",
   "execution_count": 121,
   "metadata": {},
   "outputs": [
    {
     "name": "stdout",
     "output_type": "stream",
     "text": [
      "32\n"
     ]
    }
   ],
   "source": [
    "print(mostyProbableWord)"
   ]
  },
  {
   "cell_type": "code",
   "execution_count": 123,
   "metadata": {},
   "outputs": [
    {
     "name": "stdout",
     "output_type": "stream",
     "text": [
      "Predicted answer is:  yes\n",
      "Probability of certainty was:  0.57003546\n"
     ]
    }
   ],
   "source": [
    "#Generate the prediction from model\n",
    "for key, val in tokenizer.word_index.items():\n",
    "    #Searching for the word\n",
    "    if val == mostyProbableWord:\n",
    "        k = key\n",
    "\n",
    "print(\"Predicted answer is: \", k)\n",
    "print(\"Probability of certainty was: \", predictedResults[0][mostyProbableWord])"
   ]
  },
  {
   "cell_type": "markdown",
   "metadata": {},
   "source": [
    "Not very confident with 10 epochs. Currently training for more on my poor little surface pro"
   ]
  },
  {
   "cell_type": "code",
   "execution_count": 130,
   "metadata": {},
   "outputs": [],
   "source": [
    "# To expand training and test set, I need to create new stories, new questions, and correct answers.\n",
    "# Currently limited to using only the words found in the vocabulary the network was trained on. \n",
    "# Probably could make a simple one to showcase it's potential for talking about business related conversations"
   ]
  },
  {
   "cell_type": "code",
   "execution_count": 131,
   "metadata": {},
   "outputs": [],
   "source": [
    "# Algo wants to build a Chatbot to allow business executive to talk to their data by asking natural English questions\n",
    "# They also expects their chatbot to understanding questions, and personalize the question prediction \n",
    "# for each user according to its question history.\n",
    "# Will brain storm this after finishing some commitments. Its finals week :/"
   ]
  },
  {
   "cell_type": "code",
   "execution_count": 132,
   "metadata": {},
   "outputs": [],
   "source": [
    "# Will check prediction on my own story and my own ques (limited to using the vocab words of course) \n",
    "# after I finish training more epochs"
   ]
  },
  {
   "cell_type": "code",
   "execution_count": null,
   "metadata": {},
   "outputs": [],
   "source": []
  }
 ],
 "metadata": {
  "kernelspec": {
   "display_name": "Python 3",
   "language": "python",
   "name": "python3"
  },
  "language_info": {
   "codemirror_mode": {
    "name": "ipython",
    "version": 3
   },
   "file_extension": ".py",
   "mimetype": "text/x-python",
   "name": "python",
   "nbconvert_exporter": "python",
   "pygments_lexer": "ipython3",
   "version": "3.7.1"
  }
 },
 "nbformat": 4,
 "nbformat_minor": 2
}
