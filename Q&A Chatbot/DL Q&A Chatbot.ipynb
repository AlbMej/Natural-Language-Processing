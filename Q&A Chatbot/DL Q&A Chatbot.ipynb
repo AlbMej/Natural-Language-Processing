{
 "cells": [
  {
   "cell_type": "markdown",
   "metadata": {},
   "source": [
    "# Deep Learning Question & Answer Chatbot"
   ]
  },
  {
   "cell_type": "markdown",
   "metadata": {},
   "source": [
    "I will be implementing a chat bot that can answer questions given a set of sentences. The chatbot will use a subset of the Babi Data Set from Facebook Research; it already contains stories(sentences), queries(questions), and answers. \n",
    "Here is a link to the Babi Data Sets as well as the paper describing the bAbI tasks in detail:\n",
    "\n",
    "Full Details: https://research.fb.com/downloads/babi/\n",
    "\n",
    "- Jason Weston, Antoine Bordes, Sumit Chopra, Tomas Mikolov, Alexander M. Rush,\n",
    "  \"Towards AI-Complete Question Answering: A Set of Prerequisite Toy Tasks\",\n",
    "  http://arxiv.org/abs/1502.05698\n",
    "\n",
    "Here is a link to paper this implementation is based on:\n",
    "- Sainbayar Sukhbaatar, Arthur Szlam, Jason Weston, Rob Fergus,\n",
    "  \"End-To-End Memory Networks\",\n",
    "  https://arxiv.org/pdf/1503.08895.pdf\n",
    "  \n",
    "The bot currently returns a yes or a no to each question asked. However, I plan on integrating a Natural Language Generation component to introduce some meaningful dialogue as well as a speech to text component."
   ]
  },
  {
   "cell_type": "markdown",
   "metadata": {},
   "source": [
    "## Imports"
   ]
  },
  {
   "cell_type": "code",
   "execution_count": 1,
   "metadata": {},
   "outputs": [],
   "source": [
    "import pickle\n",
    "import numpy as np"
   ]
  },
  {
   "cell_type": "code",
   "execution_count": 2,
   "metadata": {},
   "outputs": [
    {
     "name": "stderr",
     "output_type": "stream",
     "text": [
      "Using TensorFlow backend.\n"
     ]
    }
   ],
   "source": [
    "from keras.preprocessing.sequence import pad_sequences\n",
    "from keras.preprocessing.text import Tokenizer"
   ]
  },
  {
   "cell_type": "code",
   "execution_count": 3,
   "metadata": {},
   "outputs": [],
   "source": [
    "# For creating the model\n",
    "from keras.models import Sequential, Model\n",
    "from keras.layers.embeddings import Embedding\n",
    "from keras.layers import Input, Activation, Dense, Permute, Dropout\n",
    "from keras.layers import add, dot, concatenate\n",
    "from keras.layers import LSTM"
   ]
  },
  {
   "cell_type": "code",
   "execution_count": 88,
   "metadata": {},
   "outputs": [
    {
     "name": "stderr",
     "output_type": "stream",
     "text": [
      "/home/alberto/miniconda3/lib/python3.7/site-packages/matplotlib/font_manager.py:232: UserWarning: Matplotlib is building the font cache using fc-list. This may take a moment.\n",
      "  'Matplotlib is building the font cache using fc-list. '\n"
     ]
    }
   ],
   "source": [
    "import matplotlib.pyplot as plt"
   ]
  },
  {
   "cell_type": "code",
   "execution_count": 101,
   "metadata": {},
   "outputs": [],
   "source": [
    "from pprint import pprint"
   ]
  },
  {
   "cell_type": "markdown",
   "metadata": {},
   "source": [
    "## Load the Data"
   ]
  },
  {
   "cell_type": "code",
   "execution_count": 48,
   "metadata": {},
   "outputs": [],
   "source": [
    "with open(\"train_qa.txt\", \"rb\") as fp:   # Unpickling\n",
    "    train_data =  pickle.load(fp) # List"
   ]
  },
  {
   "cell_type": "code",
   "execution_count": 49,
   "metadata": {},
   "outputs": [],
   "source": [
    "with open(\"test_qa.txt\", \"rb\") as fp:   # Unpickling\n",
    "    test_data =  pickle.load(fp) # List"
   ]
  },
  {
   "cell_type": "markdown",
   "metadata": {},
   "source": [
    "10:1 ratio for training data vs testing data; there are 10,000 points for train_data and 1,000 points for test_data. "
   ]
  },
  {
   "cell_type": "code",
   "execution_count": 50,
   "metadata": {},
   "outputs": [
    {
     "data": {
      "text/plain": [
       "(['Sandra',\n",
       "  'went',\n",
       "  'back',\n",
       "  'to',\n",
       "  'the',\n",
       "  'hallway',\n",
       "  '.',\n",
       "  'Sandra',\n",
       "  'moved',\n",
       "  'to',\n",
       "  'the',\n",
       "  'office',\n",
       "  '.'],\n",
       " ['Is', 'Sandra', 'in', 'the', 'office', '?'],\n",
       " 'yes')"
      ]
     },
     "execution_count": 50,
     "metadata": {},
     "output_type": "execute_result"
    }
   ],
   "source": [
    "train_data[10]"
   ]
  },
  {
   "cell_type": "code",
   "execution_count": 51,
   "metadata": {},
   "outputs": [],
   "source": [
    "story_sentence = ' '.join(train_data[10][0]) #Story/Sentence\n",
    "query_question = ' '.join(train_data[10][1]) #Query/Question\n",
    "answer = train_data[10][2] #Answer to question"
   ]
  },
  {
   "cell_type": "code",
   "execution_count": 52,
   "metadata": {},
   "outputs": [
    {
     "name": "stdout",
     "output_type": "stream",
     "text": [
      "Sentence:  Sandra went back to the hallway . Sandra moved to the office .\n",
      "Question:  Is Sandra in the office ?\n",
      "Answer:    yes\n"
     ]
    }
   ],
   "source": [
    "print(\"Sentence: \", story_sentence)\n",
    "print(\"Question: \", query_question)\n",
    "print(\"Answer:   \", answer)"
   ]
  },
  {
   "cell_type": "markdown",
   "metadata": {},
   "source": [
    "## Create a Vocabulary of all of the Words"
   ]
  },
  {
   "cell_type": "code",
   "execution_count": 53,
   "metadata": {},
   "outputs": [],
   "source": [
    "# Set that contains the vocab words\n",
    "vocab = set()"
   ]
  },
  {
   "cell_type": "code",
   "execution_count": 54,
   "metadata": {},
   "outputs": [],
   "source": [
    "all_data = train_data + test_data \n",
    "\n",
    "for story, question , answer in all_data:\n",
    "    # Creates a vocabulary of all the distinct words inside our dataset \n",
    "    vocab = vocab | set(story) # vocab ∪ Story. Continuously adds unique words\n",
    "    vocab = vocab | set(question) # vocab ∪ question. Continuously adds unique words"
   ]
  },
  {
   "cell_type": "code",
   "execution_count": 55,
   "metadata": {},
   "outputs": [],
   "source": [
    "# Add in the two possible answers \n",
    "vocab.add('no')\n",
    "vocab.add('yes')"
   ]
  },
  {
   "cell_type": "code",
   "execution_count": 56,
   "metadata": {},
   "outputs": [
    {
     "data": {
      "text/plain": [
       "{'.',\n",
       " '?',\n",
       " 'Daniel',\n",
       " 'Is',\n",
       " 'John',\n",
       " 'Mary',\n",
       " 'Sandra',\n",
       " 'apple',\n",
       " 'back',\n",
       " 'bathroom',\n",
       " 'bedroom',\n",
       " 'discarded',\n",
       " 'down',\n",
       " 'dropped',\n",
       " 'football',\n",
       " 'garden',\n",
       " 'got',\n",
       " 'grabbed',\n",
       " 'hallway',\n",
       " 'in',\n",
       " 'journeyed',\n",
       " 'kitchen',\n",
       " 'left',\n",
       " 'milk',\n",
       " 'moved',\n",
       " 'no',\n",
       " 'office',\n",
       " 'picked',\n",
       " 'put',\n",
       " 'the',\n",
       " 'there',\n",
       " 'to',\n",
       " 'took',\n",
       " 'travelled',\n",
       " 'up',\n",
       " 'went',\n",
       " 'yes'}"
      ]
     },
     "execution_count": 56,
     "metadata": {},
     "output_type": "execute_result"
    }
   ],
   "source": [
    "vocab"
   ]
  },
  {
   "cell_type": "code",
   "execution_count": 57,
   "metadata": {},
   "outputs": [],
   "source": [
    "# Reserve 0 for Keras pad_sequences \n",
    "vocab_size = len(vocab) + 1 # + 1 to add an extra space for a 0 for Keras's pad_sequences"
   ]
  },
  {
   "cell_type": "code",
   "execution_count": 58,
   "metadata": {},
   "outputs": [],
   "source": [
    "# Find longest story\n",
    "longestStory = max(( (len(data[0])) for data in all_data )) \n",
    "longestQuery = max(( (len(data[1])) for data in all_data )) "
   ]
  },
  {
   "cell_type": "code",
   "execution_count": 59,
   "metadata": {},
   "outputs": [
    {
     "name": "stdout",
     "output_type": "stream",
     "text": [
      "156\n",
      "6\n"
     ]
    }
   ],
   "source": [
    "print(longestStory)\n",
    "print(longestQuery)"
   ]
  },
  {
   "cell_type": "markdown",
   "metadata": {},
   "source": [
    "## Vectorize Data"
   ]
  },
  {
   "cell_type": "code",
   "execution_count": 60,
   "metadata": {},
   "outputs": [],
   "source": [
    "# Creates integer encoding for the sequences of words\n",
    "tokenizer = Tokenizer(filters = [])\n",
    "tokenizer.fit_on_texts(vocab) # This method creates the vocabulary index based on word frequency"
   ]
  },
  {
   "cell_type": "code",
   "execution_count": 61,
   "metadata": {},
   "outputs": [
    {
     "data": {
      "text/plain": [
       "{'?': 1,\n",
       " 'sandra': 2,\n",
       " 'the': 3,\n",
       " 'back': 4,\n",
       " 'picked': 5,\n",
       " 'grabbed': 6,\n",
       " 'hallway': 7,\n",
       " 'office': 8,\n",
       " 'garden': 9,\n",
       " 'in': 10,\n",
       " 'apple': 11,\n",
       " 'bathroom': 12,\n",
       " 'put': 13,\n",
       " 'down': 14,\n",
       " 'went': 15,\n",
       " 'john': 16,\n",
       " 'got': 17,\n",
       " 'there': 18,\n",
       " 'discarded': 19,\n",
       " 'bedroom': 20,\n",
       " 'to': 21,\n",
       " 'moved': 22,\n",
       " 'travelled': 23,\n",
       " 'mary': 24,\n",
       " 'milk': 25,\n",
       " 'dropped': 26,\n",
       " 'no': 27,\n",
       " 'took': 28,\n",
       " 'left': 29,\n",
       " 'up': 30,\n",
       " 'football': 31,\n",
       " 'yes': 32,\n",
       " 'kitchen': 33,\n",
       " 'journeyed': 34,\n",
       " '.': 35,\n",
       " 'is': 36,\n",
       " 'daniel': 37}"
      ]
     },
     "execution_count": 61,
     "metadata": {},
     "output_type": "execute_result"
    }
   ],
   "source": [
    "tokenizer.word_index"
   ]
  },
  {
   "cell_type": "code",
   "execution_count": 62,
   "metadata": {},
   "outputs": [],
   "source": [
    "trainStoryText = []\n",
    "trainQueryText = []\n",
    "trainAnswers = []\n",
    "\n",
    "for story, query, answer in train_data:\n",
    "    trainStoryText.append(story)\n",
    "    trainQueryText.append(query)\n",
    "    trainAnswers.append(answer)"
   ]
  },
  {
   "cell_type": "code",
   "execution_count": 63,
   "metadata": {},
   "outputs": [],
   "source": [
    " # Transforms each word in the sentences to a sequence of integers.\n",
    "trainStorySeq = tokenizer.texts_to_sequences(trainStoryText)"
   ]
  },
  {
   "cell_type": "code",
   "execution_count": 64,
   "metadata": {},
   "outputs": [],
   "source": [
    "def vectorizeStories(data, word_index = tokenizer.word_index, maxStoryLen = longestStory, maxQueryLen = longestQuery):\n",
    "    \"\"\"\n",
    "    Vectorizes stories, queries, & answers into padded sequences. \n",
    "   \n",
    "    Parameters: \n",
    "        data: All the data (Stories, Queries, Answers)\n",
    "        word_index: A word index dictionary. Defaulted to our tokenizer.word_index\n",
    "                    Can be overrided to other datasets or other sets of questions\n",
    "        maxStoryLen: Length of the longest story (Will be used for the pad_sequences function)\n",
    "        maxQueryLen: Length of the longest query (Will be used for the pad_sequences function)\n",
    "        \n",
    "        We need the max story & query length because we are using padded sequences; not every story/query \n",
    "        is the same length and our RNN that we're using for training needs everything to be the same length \n",
    "        We'll pad the inputs with 0s in case there's a story or query that is too short. Or we can cut down \n",
    "        a story or query if it is too long.\n",
    "        \n",
    "    Returns: \n",
    "        this (tuple): A tuple of the form (X, Q, A) (padded based on max lengths)    \n",
    "    \"\"\"\n",
    "    X = [] # X := Stories\n",
    "    Q = [] # Q := Queries\n",
    "    A = [] # A := Answers (yes/no)\n",
    "    \n",
    "    for story, query, answer in data:\n",
    "        # Convert the raw words into integers through a word index value\n",
    "        \n",
    "        # Grabs the word index for every word in story\n",
    "        # [9, 34, ...]\n",
    "        x = [word_index[word.lower()] for word in story]\n",
    "        # Grabs the word index for every word in query\n",
    "        q = [word_index[word.lower()] for word in query]\n",
    "        \n",
    "        # Index 0 is reserved since we are using pad sequences, so we add + 1\n",
    "        a = np.zeros(len(word_index) + 1)\n",
    "        \n",
    "        # a is an empty matrix of NP zeros so we'll use numpy logic to create this assignment (Yes/No)\n",
    "        a[word_index[answer]] = 1\n",
    "        \n",
    "        # We now append each set to their appropriate output list.\n",
    "        X.append(x)\n",
    "        Q.append(q)\n",
    "        A.append(a)\n",
    "    \n",
    "    # Now that we have converted the words to numbers, we pad the sequences so they are all of equal length.\n",
    "    X_padded_seqs = pad_sequences(X, maxlen = maxStoryLen)\n",
    "    Q_padded_seqs = pad_sequences(Q, maxlen= maxQueryLen)\n",
    "    answers = np.array(A)\n",
    "    \n",
    "    # Now that the sequences are padded based on their max length, the RNN can be trained on uniformly long sequences.\n",
    "    # Returns tuple for unpacking. \n",
    "    return (X_padded_seqs, Q_padded_seqs, answers)"
   ]
  },
  {
   "cell_type": "code",
   "execution_count": 65,
   "metadata": {},
   "outputs": [],
   "source": [
    "inputsTrain, queriesTrain, answersTrain = vectorizeStories(train_data)\n",
    "inputsTest, queriesTest, answersTest = vectorizeStories(test_data)"
   ]
  },
  {
   "cell_type": "code",
   "execution_count": 66,
   "metadata": {},
   "outputs": [
    {
     "name": "stdout",
     "output_type": "stream",
     "text": [
      "[[ 0  0  0 ...  3 20 35]\n",
      " [ 0  0  0 ...  3  7 35]\n",
      " [ 0  0  0 ...  3 12 35]\n",
      " ...\n",
      " [ 0  0  0 ...  3 20 35]\n",
      " [ 0  0  0 ... 25 18 35]\n",
      " [ 0  0  0 ... 11 18 35]]\n"
     ]
    }
   ],
   "source": [
    "print(inputsTrain)"
   ]
  },
  {
   "cell_type": "code",
   "execution_count": 67,
   "metadata": {},
   "outputs": [
    {
     "name": "stdout",
     "output_type": "stream",
     "text": [
      "[[ 0  0  0 ...  3 20 35]\n",
      " [ 0  0  0 ...  3  9 35]\n",
      " [ 0  0  0 ...  3  9 35]\n",
      " ...\n",
      " [ 0  0  0 ...  3 11 35]\n",
      " [ 0  0  0 ...  3  9 35]\n",
      " [ 0  0  0 ... 11 18 35]]\n"
     ]
    }
   ],
   "source": [
    "print(inputsTest)"
   ]
  },
  {
   "cell_type": "code",
   "execution_count": 68,
   "metadata": {},
   "outputs": [
    {
     "name": "stdout",
     "output_type": "stream",
     "text": [
      "[[0. 0. 0. ... 0. 0. 0.]\n",
      " [0. 0. 0. ... 0. 0. 0.]\n",
      " [0. 0. 0. ... 0. 0. 0.]\n",
      " ...\n",
      " [0. 0. 0. ... 0. 0. 0.]\n",
      " [0. 0. 0. ... 0. 0. 0.]\n",
      " [0. 0. 0. ... 0. 0. 0.]]\n"
     ]
    }
   ],
   "source": [
    "print(answersTest)"
   ]
  },
  {
   "cell_type": "code",
   "execution_count": 69,
   "metadata": {},
   "outputs": [
    {
     "data": {
      "text/plain": [
       "32"
      ]
     },
     "execution_count": 69,
     "metadata": {},
     "output_type": "execute_result"
    }
   ],
   "source": [
    "tokenizer.word_index['yes']"
   ]
  },
  {
   "cell_type": "code",
   "execution_count": 70,
   "metadata": {},
   "outputs": [
    {
     "data": {
      "text/plain": [
       "27"
      ]
     },
     "execution_count": 70,
     "metadata": {},
     "output_type": "execute_result"
    }
   ],
   "source": [
    "tokenizer.word_index['no']"
   ]
  },
  {
   "cell_type": "code",
   "execution_count": 71,
   "metadata": {},
   "outputs": [
    {
     "data": {
      "text/plain": [
       "array([  0.,   0.,   0.,   0.,   0.,   0.,   0.,   0.,   0.,   0.,   0.,\n",
       "         0.,   0.,   0.,   0.,   0.,   0.,   0.,   0.,   0.,   0.,   0.,\n",
       "         0.,   0.,   0.,   0.,   0., 503.,   0.,   0.,   0.,   0., 497.,\n",
       "         0.,   0.,   0.,   0.,   0.])"
      ]
     },
     "execution_count": 71,
     "metadata": {},
     "output_type": "execute_result"
    }
   ],
   "source": [
    "sum(answersTest)"
   ]
  },
  {
   "cell_type": "markdown",
   "metadata": {},
   "source": [
    "We can see that we have 497 'yes's at index location 7 and 29 'no's at index location 29.\n",
    "\n",
    "Our stories, queries, and answers are now successfully vectorized"
   ]
  },
  {
   "cell_type": "markdown",
   "metadata": {},
   "source": [
    "## Create the model"
   ]
  },
  {
   "cell_type": "code",
   "execution_count": 72,
   "metadata": {},
   "outputs": [],
   "source": [
    "# We have 2 inputs: The stories and questions\n",
    "# We'll need to use place holders so we will use `Input()` to insantiate a Keras tensor."
   ]
  },
  {
   "cell_type": "code",
   "execution_count": 73,
   "metadata": {},
   "outputs": [],
   "source": [
    "# Shape = (Longest Story, Batch Size)\n",
    "inputSequence = Input((longestStory, ))\n",
    "query = Input((longestQuery, ))"
   ]
  },
  {
   "cell_type": "markdown",
   "metadata": {},
   "source": [
    "## Build the Neural Network "
   ]
  },
  {
   "cell_type": "markdown",
   "metadata": {},
   "source": [
    "There are three encoders we will build\n",
    "* Input Encoder C\n",
    "* Input Encoder M\n",
    "* Question Encoder\n",
    "\n",
    "We are following this model from the paper:\n",
    "![PaperModel](.\\PaperModel.png)\n",
    "<i><center>Figure 1: (a): A single layer version of the model. (b): A three layer version of the model.</center></i>"
   ]
  },
  {
   "cell_type": "markdown",
   "metadata": {},
   "source": [
    "### Input Encoder C"
   ]
  },
  {
   "cell_type": "code",
   "execution_count": 74,
   "metadata": {},
   "outputs": [],
   "source": [
    "# This input gets embedding to a sequence of vectors\n",
    "inputEncoderC = Sequential()\n",
    "# Add 2 layers to it\n",
    "inputEncoderC.add(Embedding(input_dim = vocab_size, output_dim = longestQuery))\n",
    "# Turns off a random % of nuerons. Helps with overfitting. Can increase droupout and train longer if wanted\n",
    "inputEncoderC.add(Dropout(0.3))\n",
    "\n",
    "# This encoder will output:\n",
    "# output: (samples, stories max len, longestQuery)"
   ]
  },
  {
   "cell_type": "markdown",
   "metadata": {},
   "source": [
    "### Input Encoder M"
   ]
  },
  {
   "cell_type": "code",
   "execution_count": 75,
   "metadata": {},
   "outputs": [],
   "source": [
    "# This input gets embedding to a sequence of vectors\n",
    "inputEncoderM = Sequential()\n",
    "# Add 2 layers to it\n",
    "# The dimension is set to 64 as the researchers found it to give good results for that vocab size. \n",
    "inputEncoderM.add(Embedding(input_dim = vocab_size, output_dim = 64)) \n",
    "# Turns off a random % of nuerons. Helps with overfitting. Can increase droupout and train longer if wanted\n",
    "inputEncoderM.add(Dropout(0.3))\n",
    "\n",
    "# This encoder will output:\n",
    "# output: (samples, stories max len, embedding dim)"
   ]
  },
  {
   "cell_type": "markdown",
   "metadata": {},
   "source": [
    "### Question Encoder"
   ]
  },
  {
   "cell_type": "code",
   "execution_count": 76,
   "metadata": {},
   "outputs": [],
   "source": [
    "# This input gets embedding to a sequence of vectors. The paper states: The query q is also embedded (again, in the simplest case via another embedding matrix\n",
    "# B with the same dimensions as A) to obtain an internal state u. So the output dimension will match our encoder m.\n",
    "questionEncoder = Sequential()\n",
    "# Add 2 layers to it\n",
    "questionEncoder.add(Embedding(input_dim = vocab_size, output_dim = 64, input_length = longestQuery))\n",
    "# Turns off a random % of nuerons. Helps with overfitting. Can increase droupout and train longer if wanted\n",
    "questionEncoder.add(Dropout(0.3))\n",
    "\n",
    "# This encoder will output:\n",
    "# output: (samples, longestQuery, embedding dim)"
   ]
  },
  {
   "cell_type": "markdown",
   "metadata": {},
   "source": [
    "### Encode the Sequences "
   ]
  },
  {
   "cell_type": "code",
   "execution_count": 77,
   "metadata": {},
   "outputs": [],
   "source": [
    "# Enocoded <-- Encoder(input)\n",
    "# encode the input sequence and questions (which are indices) to sequences of dense vectors\n",
    "# We already have our placeholders for the inputs (inputSequence & query)\n",
    "inputEncodedM = inputEncoderM(inputSequence)\n",
    "inputEncodedC = inputEncoderC(inputSequence)\n",
    "questionEncoded = questionEncoder(query)"
   ]
  },
  {
   "cell_type": "code",
   "execution_count": 78,
   "metadata": {},
   "outputs": [],
   "source": [
    "# As stated in the paper: \n",
    "# In the embedding space, we compute the match between u (1st input vector seq.) and each memory m_i (the query) by taking the innner product\n",
    "# shape: `(samples, story_maxlen, query_maxlen)`\n",
    "match = dot([inputEncodedM, questionEncoded], axes = (2,2))"
   ]
  },
  {
   "cell_type": "markdown",
   "metadata": {},
   "source": [
    "Now we call an activation function on this match (Softmax)."
   ]
  },
  {
   "cell_type": "markdown",
   "metadata": {},
   "source": [
    "$$p_{i}=\\operatorname{Softmax}\\left(u^{T} m_{i}\\right)$$\n",
    "Where\n",
    "$$\\operatorname{Softmax}\\left(z_{i}\\right)=e^{z_{i}} / \\sum_{j} e^{z_{j}}$$"
   ]
  },
  {
   "cell_type": "code",
   "execution_count": 79,
   "metadata": {},
   "outputs": [],
   "source": [
    "match = Activation('softmax')(match)"
   ]
  },
  {
   "cell_type": "markdown",
   "metadata": {},
   "source": [
    "Now we add this match matrix with the second input vector sequence"
   ]
  },
  {
   "cell_type": "code",
   "execution_count": 80,
   "metadata": {},
   "outputs": [],
   "source": [
    "response_vector = add([match, inputEncodedC]) # (samples, longestStory, longestQuery)\n",
    "response_vector = Permute((2, 1))(response_vector)  # (samples, longestQuery, longestStory)"
   ]
  },
  {
   "cell_type": "code",
   "execution_count": 81,
   "metadata": {},
   "outputs": [
    {
     "data": {
      "text/plain": [
       "<tf.Tensor 'concatenate_4/concat:0' shape=(?, 6, 220) dtype=float32>"
      ]
     },
     "execution_count": 81,
     "metadata": {},
     "output_type": "execute_result"
    }
   ],
   "source": [
    "# concatenate the match matrix with the question vector sequence\n",
    "answer = concatenate([response_vector, questionEncoded])\n",
    "answer # (batch size, 6 x 220)"
   ]
  },
  {
   "cell_type": "markdown",
   "metadata": {},
   "source": [
    "Now that we have our answer, we are going to reduce it with a RNN, specifically a LSTM layer"
   ]
  },
  {
   "cell_type": "code",
   "execution_count": 82,
   "metadata": {},
   "outputs": [],
   "source": [
    "# Reduce with LSTM\n",
    "answer = LSTM(32)(answer)  # (samples, 32)"
   ]
  },
  {
   "cell_type": "code",
   "execution_count": 83,
   "metadata": {},
   "outputs": [],
   "source": [
    "# Perform one more series of Regularization with Dropout\n",
    "answer = Dropout(0.5)(answer)\n",
    "# Dense output layer for the vocab size (samples, vocab_size) # YES/NO 0000\n",
    "answer = Dense(vocab_size)(answer) "
   ]
  },
  {
   "cell_type": "markdown",
   "metadata": {},
   "source": [
    "Output a probability distribution over the vocabulary bc we'll essentially see a bunch of zeros except some probability on YES and some probability on NO. we'll pass this into a Softmax in order to turn it into a 0 or 1"
   ]
  },
  {
   "cell_type": "code",
   "execution_count": 84,
   "metadata": {},
   "outputs": [],
   "source": [
    "# Output a probability distribution over the vocabulary\n",
    "answer = Activation('softmax')(answer)\n",
    "\n",
    "# Building the final model\n",
    "# This answer links together all the encoders (encoder C, encoder M, Question encoder).\n",
    "# This is how we link our model to those encodings.\n",
    "model = Model([inputSequence, query], answer) \n",
    "\n",
    "# We expect to see only high probabilities on YES or NO, but we're not working with a Binary Cross-Entropy Loss \n",
    "# since we we have a larger vocab size than that. Altough we should only expect to see only high probabilities on YES or NO\n",
    "# categorical_crossentropy since we are doing this across the entire vocabulary. \n",
    "model.compile(optimizer='rmsprop', loss='categorical_crossentropy', metrics=['accuracy'])"
   ]
  },
  {
   "cell_type": "code",
   "execution_count": 85,
   "metadata": {},
   "outputs": [
    {
     "name": "stdout",
     "output_type": "stream",
     "text": [
      "__________________________________________________________________________________________________\n",
      "Layer (type)                    Output Shape         Param #     Connected to                     \n",
      "==================================================================================================\n",
      "input_3 (InputLayer)            (None, 156)          0                                            \n",
      "__________________________________________________________________________________________________\n",
      "input_4 (InputLayer)            (None, 6)            0                                            \n",
      "__________________________________________________________________________________________________\n",
      "sequential_5 (Sequential)       multiple             2432        input_3[0][0]                    \n",
      "__________________________________________________________________________________________________\n",
      "sequential_6 (Sequential)       (None, 6, 64)        2432        input_4[0][0]                    \n",
      "__________________________________________________________________________________________________\n",
      "dot_3 (Dot)                     (None, 156, 6)       0           sequential_5[1][0]               \n",
      "                                                                 sequential_6[1][0]               \n",
      "__________________________________________________________________________________________________\n",
      "activation_3 (Activation)       (None, 156, 6)       0           dot_3[0][0]                      \n",
      "__________________________________________________________________________________________________\n",
      "sequential_4 (Sequential)       multiple             228         input_3[0][0]                    \n",
      "__________________________________________________________________________________________________\n",
      "add_3 (Add)                     (None, 156, 6)       0           activation_3[0][0]               \n",
      "                                                                 sequential_4[1][0]               \n",
      "__________________________________________________________________________________________________\n",
      "permute_3 (Permute)             (None, 6, 156)       0           add_3[0][0]                      \n",
      "__________________________________________________________________________________________________\n",
      "concatenate_4 (Concatenate)     (None, 6, 220)       0           permute_3[0][0]                  \n",
      "                                                                 sequential_6[1][0]               \n",
      "__________________________________________________________________________________________________\n",
      "lstm_5 (LSTM)                   (None, 32)           32384       concatenate_4[0][0]              \n",
      "__________________________________________________________________________________________________\n",
      "dropout_7 (Dropout)             (None, 32)           0           lstm_5[0][0]                     \n",
      "__________________________________________________________________________________________________\n",
      "dense_1 (Dense)                 (None, 38)           1254        dropout_7[0][0]                  \n",
      "__________________________________________________________________________________________________\n",
      "activation_4 (Activation)       (None, 38)           0           dense_1[0][0]                    \n",
      "==================================================================================================\n",
      "Total params: 38,730\n",
      "Trainable params: 38,730\n",
      "Non-trainable params: 0\n",
      "__________________________________________________________________________________________________\n"
     ]
    }
   ],
   "source": [
    "model.summary()"
   ]
  },
  {
   "cell_type": "code",
   "execution_count": 133,
   "metadata": {},
   "outputs": [
    {
     "name": "stdout",
     "output_type": "stream",
     "text": [
      "Train on 10000 samples, validate on 1000 samples\n",
      "Epoch 1/120\n",
      "10000/10000 [==============================] - 5s 463us/step - loss: 0.5937 - acc: 0.6945 - val_loss: 0.5673 - val_acc: 0.7170\n",
      "Epoch 2/120\n",
      "10000/10000 [==============================] - 4s 395us/step - loss: 0.5539 - acc: 0.7317 - val_loss: 0.5375 - val_acc: 0.7530\n",
      "Epoch 3/120\n",
      "10000/10000 [==============================] - 6s 562us/step - loss: 0.5232 - acc: 0.7538 - val_loss: 0.4943 - val_acc: 0.7780\n",
      "Epoch 4/120\n",
      "10000/10000 [==============================] - 4s 404us/step - loss: 0.5005 - acc: 0.7708 - val_loss: 0.4650 - val_acc: 0.7870\n",
      "Epoch 5/120\n",
      "10000/10000 [==============================] - 4s 377us/step - loss: 0.4803 - acc: 0.7824 - val_loss: 0.4459 - val_acc: 0.7930\n",
      "Epoch 6/120\n",
      "10000/10000 [==============================] - 4s 382us/step - loss: 0.4635 - acc: 0.7864 - val_loss: 0.4385 - val_acc: 0.7940\n",
      "Epoch 7/120\n",
      "10000/10000 [==============================] - 4s 385us/step - loss: 0.4462 - acc: 0.8018 - val_loss: 0.4348 - val_acc: 0.8000\n",
      "Epoch 8/120\n",
      "10000/10000 [==============================] - 4s 376us/step - loss: 0.4251 - acc: 0.8145 - val_loss: 0.4338 - val_acc: 0.8080\n",
      "Epoch 9/120\n",
      "10000/10000 [==============================] - 4s 379us/step - loss: 0.4082 - acc: 0.8242 - val_loss: 0.4299 - val_acc: 0.8140\n",
      "Epoch 10/120\n",
      "10000/10000 [==============================] - 4s 375us/step - loss: 0.4020 - acc: 0.8298 - val_loss: 0.4080 - val_acc: 0.8210\n",
      "Epoch 11/120\n",
      "10000/10000 [==============================] - 4s 406us/step - loss: 0.3912 - acc: 0.8322 - val_loss: 0.3954 - val_acc: 0.8270\n",
      "Epoch 12/120\n",
      "10000/10000 [==============================] - 4s 426us/step - loss: 0.3824 - acc: 0.8390 - val_loss: 0.4057 - val_acc: 0.8290\n",
      "Epoch 13/120\n",
      "10000/10000 [==============================] - 4s 400us/step - loss: 0.3703 - acc: 0.8478 - val_loss: 0.3863 - val_acc: 0.8240\n",
      "Epoch 14/120\n",
      "10000/10000 [==============================] - 4s 382us/step - loss: 0.3631 - acc: 0.8476 - val_loss: 0.3877 - val_acc: 0.8300\n",
      "Epoch 15/120\n",
      "10000/10000 [==============================] - 4s 381us/step - loss: 0.3615 - acc: 0.8455 - val_loss: 0.3820 - val_acc: 0.8270\n",
      "Epoch 16/120\n",
      "10000/10000 [==============================] - 4s 380us/step - loss: 0.3478 - acc: 0.8539 - val_loss: 0.3792 - val_acc: 0.8170\n",
      "Epoch 17/120\n",
      "10000/10000 [==============================] - 4s 378us/step - loss: 0.3473 - acc: 0.8524 - val_loss: 0.3849 - val_acc: 0.8280\n",
      "Epoch 18/120\n",
      "10000/10000 [==============================] - 4s 380us/step - loss: 0.3380 - acc: 0.8581 - val_loss: 0.3826 - val_acc: 0.8310\n",
      "Epoch 19/120\n",
      "10000/10000 [==============================] - 4s 380us/step - loss: 0.3354 - acc: 0.8542 - val_loss: 0.3679 - val_acc: 0.8290\n",
      "Epoch 20/120\n",
      "10000/10000 [==============================] - 4s 432us/step - loss: 0.3336 - acc: 0.8565 - val_loss: 0.3978 - val_acc: 0.8360\n",
      "Epoch 21/120\n",
      "10000/10000 [==============================] - 4s 419us/step - loss: 0.3289 - acc: 0.8603 - val_loss: 0.3784 - val_acc: 0.8310\n",
      "Epoch 22/120\n",
      "10000/10000 [==============================] - 4s 411us/step - loss: 0.3270 - acc: 0.8572 - val_loss: 0.3720 - val_acc: 0.8280\n",
      "Epoch 23/120\n",
      "10000/10000 [==============================] - 4s 392us/step - loss: 0.3238 - acc: 0.8611 - val_loss: 0.3597 - val_acc: 0.8290\n",
      "Epoch 24/120\n",
      "10000/10000 [==============================] - 4s 375us/step - loss: 0.3247 - acc: 0.8621 - val_loss: 0.3648 - val_acc: 0.8250\n",
      "Epoch 25/120\n",
      "10000/10000 [==============================] - 4s 378us/step - loss: 0.3148 - acc: 0.8652 - val_loss: 0.3626 - val_acc: 0.8280\n",
      "Epoch 26/120\n",
      "10000/10000 [==============================] - 4s 381us/step - loss: 0.3139 - acc: 0.8647 - val_loss: 0.3739 - val_acc: 0.8360\n",
      "Epoch 27/120\n",
      "10000/10000 [==============================] - 4s 380us/step - loss: 0.3083 - acc: 0.8689 - val_loss: 0.3843 - val_acc: 0.8390\n",
      "Epoch 28/120\n",
      "10000/10000 [==============================] - 4s 382us/step - loss: 0.3024 - acc: 0.8726 - val_loss: 0.3711 - val_acc: 0.8150\n",
      "Epoch 29/120\n",
      "10000/10000 [==============================] - 4s 382us/step - loss: 0.3093 - acc: 0.8665 - val_loss: 0.3577 - val_acc: 0.8250\n",
      "Epoch 30/120\n",
      "10000/10000 [==============================] - 4s 381us/step - loss: 0.3082 - acc: 0.8679 - val_loss: 0.3580 - val_acc: 0.8220\n",
      "Epoch 31/120\n",
      "10000/10000 [==============================] - 4s 381us/step - loss: 0.3017 - acc: 0.8695 - val_loss: 0.3531 - val_acc: 0.8310\n",
      "Epoch 32/120\n",
      "10000/10000 [==============================] - 4s 382us/step - loss: 0.2968 - acc: 0.8718 - val_loss: 0.3540 - val_acc: 0.8230\n",
      "Epoch 33/120\n",
      "10000/10000 [==============================] - 4s 380us/step - loss: 0.3031 - acc: 0.8719 - val_loss: 0.3606 - val_acc: 0.8270\n",
      "Epoch 34/120\n",
      "10000/10000 [==============================] - 4s 381us/step - loss: 0.2909 - acc: 0.8744 - val_loss: 0.3887 - val_acc: 0.8280\n",
      "Epoch 35/120\n",
      "10000/10000 [==============================] - 4s 380us/step - loss: 0.2961 - acc: 0.8715 - val_loss: 0.3668 - val_acc: 0.8260\n",
      "Epoch 36/120\n",
      "10000/10000 [==============================] - 4s 383us/step - loss: 0.2947 - acc: 0.8741 - val_loss: 0.3781 - val_acc: 0.8360\n",
      "Epoch 37/120\n",
      "10000/10000 [==============================] - 4s 380us/step - loss: 0.2885 - acc: 0.8741 - val_loss: 0.3756 - val_acc: 0.8240\n",
      "Epoch 38/120\n",
      "10000/10000 [==============================] - 4s 382us/step - loss: 0.2902 - acc: 0.8734 - val_loss: 0.3788 - val_acc: 0.8300\n",
      "Epoch 39/120\n",
      "10000/10000 [==============================] - 4s 393us/step - loss: 0.2876 - acc: 0.8732 - val_loss: 0.3750 - val_acc: 0.8250\n",
      "Epoch 40/120\n",
      "10000/10000 [==============================] - 4s 384us/step - loss: 0.2858 - acc: 0.8759 - val_loss: 0.4128 - val_acc: 0.8340\n",
      "Epoch 41/120\n",
      "10000/10000 [==============================] - 4s 384us/step - loss: 0.2780 - acc: 0.8816 - val_loss: 0.3971 - val_acc: 0.8310\n",
      "Epoch 42/120\n",
      "10000/10000 [==============================] - 4s 383us/step - loss: 0.2801 - acc: 0.8785 - val_loss: 0.3850 - val_acc: 0.8130\n",
      "Epoch 43/120\n",
      "10000/10000 [==============================] - 4s 392us/step - loss: 0.2809 - acc: 0.8793 - val_loss: 0.3761 - val_acc: 0.8250\n",
      "Epoch 44/120\n",
      "10000/10000 [==============================] - 4s 391us/step - loss: 0.2776 - acc: 0.8791 - val_loss: 0.3836 - val_acc: 0.8300\n",
      "Epoch 45/120\n",
      "10000/10000 [==============================] - 4s 389us/step - loss: 0.2705 - acc: 0.8832 - val_loss: 0.4089 - val_acc: 0.8140\n",
      "Epoch 46/120\n",
      "10000/10000 [==============================] - 4s 382us/step - loss: 0.2728 - acc: 0.8796 - val_loss: 0.3785 - val_acc: 0.8220\n",
      "Epoch 47/120\n",
      "10000/10000 [==============================] - 4s 385us/step - loss: 0.2695 - acc: 0.8830 - val_loss: 0.3949 - val_acc: 0.8200\n",
      "Epoch 48/120\n",
      "10000/10000 [==============================] - 4s 388us/step - loss: 0.2708 - acc: 0.8837 - val_loss: 0.3833 - val_acc: 0.8160\n",
      "Epoch 49/120\n",
      "10000/10000 [==============================] - 4s 388us/step - loss: 0.2644 - acc: 0.8859 - val_loss: 0.4092 - val_acc: 0.8230\n",
      "Epoch 50/120\n",
      "10000/10000 [==============================] - 4s 386us/step - loss: 0.2663 - acc: 0.8835 - val_loss: 0.4093 - val_acc: 0.8310\n",
      "Epoch 51/120\n",
      "10000/10000 [==============================] - 4s 394us/step - loss: 0.2627 - acc: 0.8869 - val_loss: 0.4407 - val_acc: 0.8340\n",
      "Epoch 52/120\n",
      "10000/10000 [==============================] - 4s 388us/step - loss: 0.2652 - acc: 0.8836 - val_loss: 0.4170 - val_acc: 0.8150\n",
      "Epoch 53/120\n",
      "10000/10000 [==============================] - 4s 402us/step - loss: 0.2584 - acc: 0.8878 - val_loss: 0.4298 - val_acc: 0.8290\n",
      "Epoch 54/120\n",
      "10000/10000 [==============================] - 4s 391us/step - loss: 0.2573 - acc: 0.8874 - val_loss: 0.4153 - val_acc: 0.8230\n",
      "Epoch 55/120\n",
      "10000/10000 [==============================] - 4s 391us/step - loss: 0.2601 - acc: 0.8872 - val_loss: 0.4068 - val_acc: 0.8220\n",
      "Epoch 56/120\n",
      "10000/10000 [==============================] - 4s 394us/step - loss: 0.2566 - acc: 0.8906 - val_loss: 0.4194 - val_acc: 0.8220\n",
      "Epoch 57/120\n",
      "10000/10000 [==============================] - 4s 429us/step - loss: 0.2525 - acc: 0.8892 - val_loss: 0.4530 - val_acc: 0.8080\n",
      "Epoch 58/120\n",
      "10000/10000 [==============================] - 4s 423us/step - loss: 0.2486 - acc: 0.8907 - val_loss: 0.4461 - val_acc: 0.8220\n",
      "Epoch 59/120\n",
      "10000/10000 [==============================] - 4s 378us/step - loss: 0.2485 - acc: 0.8923 - val_loss: 0.4509 - val_acc: 0.8120\n",
      "Epoch 60/120\n",
      "10000/10000 [==============================] - 4s 371us/step - loss: 0.2418 - acc: 0.8928 - val_loss: 0.4556 - val_acc: 0.8230\n",
      "Epoch 61/120\n",
      "10000/10000 [==============================] - 4s 381us/step - loss: 0.2475 - acc: 0.8928 - val_loss: 0.4536 - val_acc: 0.8120\n",
      "Epoch 62/120\n",
      "10000/10000 [==============================] - 4s 375us/step - loss: 0.2461 - acc: 0.8953 - val_loss: 0.4708 - val_acc: 0.8090\n",
      "Epoch 63/120\n",
      "10000/10000 [==============================] - 4s 375us/step - loss: 0.2431 - acc: 0.8964 - val_loss: 0.4651 - val_acc: 0.8150\n",
      "Epoch 64/120\n",
      "10000/10000 [==============================] - 4s 377us/step - loss: 0.2405 - acc: 0.8978 - val_loss: 0.4909 - val_acc: 0.8210\n",
      "Epoch 65/120\n",
      "10000/10000 [==============================] - 4s 374us/step - loss: 0.2414 - acc: 0.8971 - val_loss: 0.4680 - val_acc: 0.8140\n",
      "Epoch 66/120\n",
      "10000/10000 [==============================] - 4s 373us/step - loss: 0.2326 - acc: 0.8997 - val_loss: 0.5245 - val_acc: 0.8060\n",
      "Epoch 67/120\n",
      "10000/10000 [==============================] - 4s 374us/step - loss: 0.2327 - acc: 0.8991 - val_loss: 0.5244 - val_acc: 0.8030\n",
      "Epoch 68/120\n",
      "10000/10000 [==============================] - 4s 374us/step - loss: 0.2327 - acc: 0.8963 - val_loss: 0.5369 - val_acc: 0.8030\n",
      "Epoch 69/120\n",
      "10000/10000 [==============================] - 4s 377us/step - loss: 0.2273 - acc: 0.8990 - val_loss: 0.4944 - val_acc: 0.8170\n",
      "Epoch 70/120\n",
      "10000/10000 [==============================] - 4s 377us/step - loss: 0.2285 - acc: 0.9022 - val_loss: 0.4878 - val_acc: 0.8190\n",
      "Epoch 71/120\n",
      "10000/10000 [==============================] - 4s 374us/step - loss: 0.2317 - acc: 0.9005 - val_loss: 0.5025 - val_acc: 0.8140\n",
      "Epoch 72/120\n",
      "10000/10000 [==============================] - 4s 376us/step - loss: 0.2298 - acc: 0.9032 - val_loss: 0.5040 - val_acc: 0.8130\n",
      "Epoch 73/120\n",
      "10000/10000 [==============================] - 4s 376us/step - loss: 0.2273 - acc: 0.9063 - val_loss: 0.5124 - val_acc: 0.8110\n",
      "Epoch 74/120\n",
      "10000/10000 [==============================] - 4s 375us/step - loss: 0.2263 - acc: 0.9014 - val_loss: 0.5126 - val_acc: 0.8120\n",
      "Epoch 75/120\n",
      "10000/10000 [==============================] - 4s 376us/step - loss: 0.2266 - acc: 0.9023 - val_loss: 0.5108 - val_acc: 0.8140\n",
      "Epoch 76/120\n",
      "10000/10000 [==============================] - 4s 377us/step - loss: 0.2200 - acc: 0.9035 - val_loss: 0.5335 - val_acc: 0.8240\n",
      "Epoch 77/120\n",
      "10000/10000 [==============================] - 4s 378us/step - loss: 0.2149 - acc: 0.9100 - val_loss: 0.5281 - val_acc: 0.8150\n",
      "Epoch 78/120\n",
      "10000/10000 [==============================] - 4s 400us/step - loss: 0.2181 - acc: 0.9063 - val_loss: 0.5912 - val_acc: 0.8120\n",
      "Epoch 79/120\n",
      "10000/10000 [==============================] - 4s 401us/step - loss: 0.2173 - acc: 0.9077 - val_loss: 0.5939 - val_acc: 0.8130\n",
      "Epoch 80/120\n",
      "10000/10000 [==============================] - 4s 386us/step - loss: 0.2143 - acc: 0.9087 - val_loss: 0.5576 - val_acc: 0.8140\n",
      "Epoch 81/120\n",
      "10000/10000 [==============================] - 4s 378us/step - loss: 0.2148 - acc: 0.9089 - val_loss: 0.5671 - val_acc: 0.8120\n",
      "Epoch 82/120\n",
      "10000/10000 [==============================] - 4s 376us/step - loss: 0.2120 - acc: 0.9093 - val_loss: 0.5674 - val_acc: 0.8110\n",
      "Epoch 83/120\n",
      "10000/10000 [==============================] - 4s 377us/step - loss: 0.2130 - acc: 0.9094 - val_loss: 0.6157 - val_acc: 0.8050\n",
      "Epoch 84/120\n",
      "10000/10000 [==============================] - 4s 389us/step - loss: 0.2109 - acc: 0.9101 - val_loss: 0.5736 - val_acc: 0.8000\n",
      "Epoch 85/120\n",
      "10000/10000 [==============================] - 5s 478us/step - loss: 0.2090 - acc: 0.9115 - val_loss: 0.5832 - val_acc: 0.8170\n",
      "Epoch 86/120\n",
      "10000/10000 [==============================] - 5s 534us/step - loss: 0.2109 - acc: 0.9087 - val_loss: 0.5965 - val_acc: 0.8160\n",
      "Epoch 87/120\n",
      "10000/10000 [==============================] - 4s 404us/step - loss: 0.2065 - acc: 0.9144 - val_loss: 0.6670 - val_acc: 0.8120\n",
      "Epoch 88/120\n",
      "10000/10000 [==============================] - 6s 630us/step - loss: 0.2055 - acc: 0.9126 - val_loss: 0.5659 - val_acc: 0.8070\n",
      "Epoch 89/120\n",
      "10000/10000 [==============================] - 4s 425us/step - loss: 0.2055 - acc: 0.9111 - val_loss: 0.6222 - val_acc: 0.8160\n",
      "Epoch 90/120\n",
      "10000/10000 [==============================] - 4s 449us/step - loss: 0.2093 - acc: 0.9102 - val_loss: 0.6229 - val_acc: 0.8150\n",
      "Epoch 91/120\n",
      "10000/10000 [==============================] - 4s 422us/step - loss: 0.2036 - acc: 0.9142 - val_loss: 0.6551 - val_acc: 0.8140\n",
      "Epoch 92/120\n",
      "10000/10000 [==============================] - 4s 404us/step - loss: 0.1999 - acc: 0.9133 - val_loss: 0.5758 - val_acc: 0.8130\n",
      "Epoch 93/120\n",
      "10000/10000 [==============================] - 4s 399us/step - loss: 0.2029 - acc: 0.9149 - val_loss: 0.6036 - val_acc: 0.8120\n",
      "Epoch 94/120\n",
      "10000/10000 [==============================] - 4s 398us/step - loss: 0.2003 - acc: 0.9171 - val_loss: 0.6702 - val_acc: 0.8090\n",
      "Epoch 95/120\n",
      "10000/10000 [==============================] - 4s 396us/step - loss: 0.2005 - acc: 0.9145 - val_loss: 0.6523 - val_acc: 0.8060\n",
      "Epoch 96/120\n",
      "10000/10000 [==============================] - 4s 418us/step - loss: 0.1994 - acc: 0.9167 - val_loss: 0.6529 - val_acc: 0.8140\n",
      "Epoch 97/120\n",
      "10000/10000 [==============================] - 4s 424us/step - loss: 0.1957 - acc: 0.9179 - val_loss: 0.6226 - val_acc: 0.8120\n",
      "Epoch 98/120\n",
      "10000/10000 [==============================] - 4s 419us/step - loss: 0.1983 - acc: 0.9171 - val_loss: 0.6186 - val_acc: 0.8130\n",
      "Epoch 99/120\n",
      "10000/10000 [==============================] - 4s 425us/step - loss: 0.1882 - acc: 0.9176 - val_loss: 0.6556 - val_acc: 0.8110\n",
      "Epoch 100/120\n",
      "10000/10000 [==============================] - 4s 434us/step - loss: 0.1989 - acc: 0.9161 - val_loss: 0.6758 - val_acc: 0.8060\n",
      "Epoch 101/120\n",
      "10000/10000 [==============================] - 4s 408us/step - loss: 0.1898 - acc: 0.9173 - val_loss: 0.6764 - val_acc: 0.8070\n",
      "Epoch 102/120\n",
      "10000/10000 [==============================] - 4s 404us/step - loss: 0.1966 - acc: 0.9169 - val_loss: 0.6452 - val_acc: 0.8020\n",
      "Epoch 103/120\n",
      "10000/10000 [==============================] - 4s 408us/step - loss: 0.1932 - acc: 0.9203 - val_loss: 0.6715 - val_acc: 0.8150\n",
      "Epoch 104/120\n",
      "10000/10000 [==============================] - 4s 408us/step - loss: 0.1915 - acc: 0.9207 - val_loss: 0.6581 - val_acc: 0.8050\n",
      "Epoch 105/120\n",
      "10000/10000 [==============================] - 4s 416us/step - loss: 0.1855 - acc: 0.9218 - val_loss: 0.6700 - val_acc: 0.8120\n",
      "Epoch 106/120\n",
      "10000/10000 [==============================] - 4s 408us/step - loss: 0.1875 - acc: 0.9208 - val_loss: 0.6821 - val_acc: 0.8070\n",
      "Epoch 107/120\n",
      "10000/10000 [==============================] - 4s 411us/step - loss: 0.1833 - acc: 0.9240 - val_loss: 0.6825 - val_acc: 0.8070\n",
      "Epoch 108/120\n",
      "10000/10000 [==============================] - 4s 416us/step - loss: 0.1825 - acc: 0.9235 - val_loss: 0.6886 - val_acc: 0.8050\n",
      "Epoch 109/120\n",
      "10000/10000 [==============================] - 4s 414us/step - loss: 0.1868 - acc: 0.9233 - val_loss: 0.7190 - val_acc: 0.8070\n",
      "Epoch 110/120\n",
      "10000/10000 [==============================] - 4s 413us/step - loss: 0.1829 - acc: 0.9243 - val_loss: 0.6874 - val_acc: 0.8100\n",
      "Epoch 111/120\n",
      "10000/10000 [==============================] - 4s 415us/step - loss: 0.1804 - acc: 0.9232 - val_loss: 0.6885 - val_acc: 0.8110\n",
      "Epoch 112/120\n",
      "10000/10000 [==============================] - 4s 434us/step - loss: 0.1888 - acc: 0.9244 - val_loss: 0.6618 - val_acc: 0.8140\n",
      "Epoch 113/120\n",
      "10000/10000 [==============================] - 4s 412us/step - loss: 0.1878 - acc: 0.9215 - val_loss: 0.7190 - val_acc: 0.8030\n",
      "Epoch 114/120\n",
      "10000/10000 [==============================] - 4s 417us/step - loss: 0.1871 - acc: 0.9223 - val_loss: 0.6986 - val_acc: 0.8140\n",
      "Epoch 115/120\n",
      "10000/10000 [==============================] - 4s 418us/step - loss: 0.1787 - acc: 0.9220 - val_loss: 0.7510 - val_acc: 0.8040\n",
      "Epoch 116/120\n",
      "10000/10000 [==============================] - 4s 418us/step - loss: 0.1859 - acc: 0.9255 - val_loss: 0.6963 - val_acc: 0.8020\n",
      "Epoch 117/120\n"
     ]
    },
    {
     "name": "stdout",
     "output_type": "stream",
     "text": [
      "10000/10000 [==============================] - 4s 403us/step - loss: 0.1823 - acc: 0.9242 - val_loss: 0.6967 - val_acc: 0.8050\n",
      "Epoch 118/120\n",
      "10000/10000 [==============================] - 4s 411us/step - loss: 0.1795 - acc: 0.9254 - val_loss: 0.6690 - val_acc: 0.8070\n",
      "Epoch 119/120\n",
      "10000/10000 [==============================] - 4s 389us/step - loss: 0.1739 - acc: 0.9296 - val_loss: 0.7425 - val_acc: 0.8100\n",
      "Epoch 120/120\n",
      "10000/10000 [==============================] - 4s 406us/step - loss: 0.1808 - acc: 0.9268 - val_loss: 0.6730 - val_acc: 0.8210\n"
     ]
    }
   ],
   "source": [
    "'''\n",
    "Train the model for 3 epochs, in batches of 16 samples,\n",
    "on data stored in the Numpy array X_train,\n",
    "and labels stored in the Numpy array y_train:\n",
    "\n",
    "model.fit(X_train, y_train, nb_epoch=3, batch_size=16, verbose=1)\n",
    "\n",
    "What you will see with mode verbose=1:\n",
    "Train on 37800 samples, validate on 4200 samples\n",
    "Epoch 0\n",
    "37800/37800 [==============================] - 7s - loss: 0.0385\n",
    "Epoch 1\n",
    "37800/37800 [==============================] - 8s - loss: 0.0140\n",
    "Epoch 2\n",
    "10960/37800 [=======>......................] - ETA: 4s - loss: 0.0109\n",
    "\n",
    "Smaller batch sizes with longer training epochs should lead to slightly better results. \n",
    "'''\n",
    "# Training on input stories and input questions\n",
    "x_train = [inputsTrain, queriesTrain]\n",
    "correctLabels = answersTrain\n",
    "\n",
    "validSet = ([inputsTest, queriesTest], answersTest)\n",
    "\n",
    "chatbotHistory = model.fit(x_train, correctLabels, batch_size=32, epochs=120, validation_data=validSet)"
   ]
  },
  {
   "cell_type": "markdown",
   "metadata": {},
   "source": [
    "## Evaluating the Model"
   ]
  },
  {
   "cell_type": "code",
   "execution_count": 134,
   "metadata": {},
   "outputs": [
    {
     "name": "stdout",
     "output_type": "stream",
     "text": [
      "dict_keys(['val_loss', 'val_acc', 'loss', 'acc'])\n"
     ]
    },
    {
     "data": {
      "image/png": "[encoded data removed]",
      "text/plain": [
       "<Figure size 432x288 with 1 Axes>"
      ]
     },
     "metadata": {
      "needs_background": "light"
     },
     "output_type": "display_data"
    }
   ],
   "source": [
    "#pprint(chatbotHistory.history)\n",
    "print(chatbotHistory.history.keys())\n",
    "# Summarize the history for accuracy\n",
    "#Loss & and Accuracy are essentially inverses of each other. We are trying to increase accuracy/reduce loss\n",
    "plt.plot(chatbotHistory.history['acc']) \n",
    "plt.plot(chatbotHistory.history['val_acc'])\n",
    "plt.title('Model Accuracy')\n",
    "plt.ylabel('Accuracy')\n",
    "plt.xlabel('Epochs')\n",
    "plt.legend(['train', 'test'], loc='upper left')\n",
    "plt.show()"
   ]
  },
  {
   "cell_type": "markdown",
   "metadata": {},
   "source": [
    "### Saving the Model"
   ]
  },
  {
   "cell_type": "code",
   "execution_count": 135,
   "metadata": {},
   "outputs": [],
   "source": [
    "model.save(\"models/chatbot_120_epochs.h5\")"
   ]
  },
  {
   "cell_type": "code",
   "execution_count": 106,
   "metadata": {},
   "outputs": [],
   "source": [
    "# To load a different model\n",
    "# model.load_weights(\"models/chatbot_10_epochs.h5\")"
   ]
  },
  {
   "cell_type": "code",
   "execution_count": 136,
   "metadata": {},
   "outputs": [],
   "source": [
    "# Evaluate on test set\n",
    "# Trying to predict based on the test set so the answer labels are not passed in\n",
    "predictedResults = model.predict((validSet[0]))"
   ]
  },
  {
   "cell_type": "code",
   "execution_count": 138,
   "metadata": {},
   "outputs": [
    {
     "name": "stdout",
     "output_type": "stream",
     "text": [
      "Story: Mary got the milk there . John moved to the bedroom .\n",
      "Question: Is John in the kitchen ?\n",
      "Correct Answer:  no\n"
     ]
    }
   ],
   "source": [
    "story =' '.join(word for word in test_data[0][0])\n",
    "print(f'Story: {story}')\n",
    "\n",
    "query = ' '.join(word for word in test_data[0][1])\n",
    "print(f'Question: {query}')\n",
    "\n",
    "print(\"Correct Answer: \",test_data[0][2])"
   ]
  },
  {
   "cell_type": "code",
   "execution_count": 139,
   "metadata": {},
   "outputs": [
    {
     "data": {
      "text/plain": [
       "(1000, 38)"
      ]
     },
     "execution_count": 139,
     "metadata": {},
     "output_type": "execute_result"
    }
   ],
   "source": [
    "predictedResults.shape #37 vocab words + 1 for padding"
   ]
  },
  {
   "cell_type": "code",
   "execution_count": 140,
   "metadata": {},
   "outputs": [
    {
     "data": {
      "text/plain": [
       "array([1.9816977e-15, 2.0368580e-15, 2.3015473e-15, 1.9834979e-15,\n",
       "       2.3366147e-15, 2.1451880e-15, 1.8299696e-15, 2.1858632e-15,\n",
       "       2.4458945e-15, 1.8294811e-15, 2.1176095e-15, 2.0684839e-15,\n",
       "       1.9871332e-15, 2.2822343e-15, 2.0055853e-15, 2.1186357e-15,\n",
       "       2.2708581e-15, 2.2851354e-15, 1.8959331e-15, 2.1542661e-15,\n",
       "       2.0863381e-15, 2.0676320e-15, 2.4000691e-15, 2.3236106e-15,\n",
       "       2.2063965e-15, 2.0691865e-15, 1.8461805e-15, 9.9997878e-01,\n",
       "       2.2069016e-15, 2.1036722e-15, 2.2178560e-15, 1.9348174e-15,\n",
       "       2.1226384e-05, 2.5996413e-15, 2.1325740e-15, 1.9930545e-15,\n",
       "       2.1961269e-15, 2.1997153e-15], dtype=float32)"
      ]
     },
     "execution_count": 140,
     "metadata": {},
     "output_type": "execute_result"
    }
   ],
   "source": [
    "predictedResults[0]"
   ]
  },
  {
   "cell_type": "code",
   "execution_count": 141,
   "metadata": {},
   "outputs": [],
   "source": [
    "mostyProbableWord = np.argmax(predictedResults[0]) #Word with the highest probability"
   ]
  },
  {
   "cell_type": "code",
   "execution_count": 142,
   "metadata": {},
   "outputs": [
    {
     "name": "stdout",
     "output_type": "stream",
     "text": [
      "27\n"
     ]
    }
   ],
   "source": [
    "print(mostyProbableWord)"
   ]
  },
  {
   "cell_type": "code",
   "execution_count": 143,
   "metadata": {},
   "outputs": [
    {
     "name": "stdout",
     "output_type": "stream",
     "text": [
      "Predicted answer is:  no\n",
      "Probability of certainty was:  0.9999788\n"
     ]
    }
   ],
   "source": [
    "#Generate the prediction from model\n",
    "for key, val in tokenizer.word_index.items():\n",
    "    #Searching for the word\n",
    "    if val == mostyProbableWord:\n",
    "        k = key\n",
    "\n",
    "print(\"Predicted answer is: \", k)\n",
    "print(\"Probability of certainty was: \", predictedResults[0][mostyProbableWord])"
   ]
  },
  {
   "cell_type": "markdown",
   "metadata": {},
   "source": [
    "Very confident at 120 epochs. Although it appears that it wasn't necessary to train for 120 epochs. Probably could've trained for less. Will do an analysis later."
   ]
  },
  {
   "cell_type": "code",
   "execution_count": 130,
   "metadata": {},
   "outputs": [],
   "source": [
    "# To expand training and test set, I need to create new stories, new questions, and correct answers.\n",
    "# Currently limited to using only the words found in the vocabulary the network was trained on. \n",
    "# Probably could make a simple one to showcase it's potential for talking about business related conversations"
   ]
  },
  {
   "cell_type": "code",
   "execution_count": 132,
   "metadata": {},
   "outputs": [],
   "source": [
    "# Will check prediction on my own story and my own ques (limited to using the vocab words of course) "
   ]
  },
  {
   "cell_type": "code",
   "execution_count": null,
   "metadata": {},
   "outputs": [],
   "source": []
  }
 ],
 "metadata": {
  "kernelspec": {
   "display_name": "Python 3",
   "language": "python",
   "name": "python3"
  },
  "language_info": {
   "codemirror_mode": {
    "name": "ipython",
    "version": 3
   },
   "file_extension": ".py",
   "mimetype": "text/x-python",
   "name": "python",
   "nbconvert_exporter": "python",
   "pygments_lexer": "ipython3",
   "version": "3.7.1"
  }
 },
 "nbformat": 4,
 "nbformat_minor": 2
}
